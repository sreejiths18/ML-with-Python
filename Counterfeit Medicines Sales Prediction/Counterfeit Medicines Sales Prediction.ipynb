{
 "cells": [
  {
   "cell_type": "markdown",
   "id": "cdcd27cb",
   "metadata": {},
   "source": [
    "### Importing Libraries"
   ]
  },
  {
   "cell_type": "code",
   "execution_count": 1,
   "id": "69713da5",
   "metadata": {},
   "outputs": [],
   "source": [
    "import pandas as pd\n",
    "import numpy as np\n",
    "import matplotlib.pyplot as plt\n",
    "import seaborn as sns\n",
    "from sklearn.ensemble import RandomForestRegressor\n",
    "from sklearn.model_selection import GridSearchCV\n",
    "from sklearn import metrics\n",
    "import warnings\n",
    "warnings.filterwarnings('ignore')"
   ]
  },
  {
   "cell_type": "markdown",
   "id": "06edfa70",
   "metadata": {},
   "source": [
    "### Importing dataset"
   ]
  },
  {
   "cell_type": "code",
   "execution_count": 2,
   "id": "76a25dc6",
   "metadata": {},
   "outputs": [],
   "source": [
    "# Reading data from your local path.\n",
    "train = pd.read_csv(r'D:\\Data Science\\test & train\\project 3\\counterfeit_train.csv')\n",
    "test = pd.read_csv(r'D:\\Data Science\\test & train\\project 3\\counterfeit_test.csv')"
   ]
  },
  {
   "cell_type": "code",
   "execution_count": 3,
   "id": "bd517066",
   "metadata": {},
   "outputs": [
    {
     "name": "stdout",
     "output_type": "stream",
     "text": [
      "<class 'pandas.core.frame.DataFrame'>\n",
      "RangeIndex: 6818 entries, 0 to 6817\n",
      "Data columns (total 12 columns):\n",
      " #   Column               Non-Null Count  Dtype  \n",
      "---  ------               --------------  -----  \n",
      " 0   Medicine_ID          6818 non-null   object \n",
      " 1   Counterfeit_Weight   5652 non-null   float64\n",
      " 2   DistArea_ID          6818 non-null   object \n",
      " 3   Active_Since         6818 non-null   int64  \n",
      " 4   Medicine_MRP         6818 non-null   float64\n",
      " 5   Medicine_Type        6818 non-null   object \n",
      " 6   SidEffect_Level      6818 non-null   object \n",
      " 7   Availability_rating  6818 non-null   float64\n",
      " 8   Area_Type            6818 non-null   object \n",
      " 9   Area_City_Type       6818 non-null   object \n",
      " 10  Area_dist_level      6818 non-null   object \n",
      " 11  Counterfeit_Sales    6818 non-null   float64\n",
      "dtypes: float64(4), int64(1), object(7)\n",
      "memory usage: 639.3+ KB\n",
      "<class 'pandas.core.frame.DataFrame'>\n",
      "RangeIndex: 1705 entries, 0 to 1704\n",
      "Data columns (total 11 columns):\n",
      " #   Column               Non-Null Count  Dtype  \n",
      "---  ------               --------------  -----  \n",
      " 0   Medicine_ID          1705 non-null   object \n",
      " 1   Counterfeit_Weight   1408 non-null   float64\n",
      " 2   DistArea_ID          1705 non-null   object \n",
      " 3   Active_Since         1705 non-null   int64  \n",
      " 4   Medicine_MRP         1705 non-null   float64\n",
      " 5   Medicine_Type        1705 non-null   object \n",
      " 6   SidEffect_Level      1705 non-null   object \n",
      " 7   Availability_rating  1705 non-null   float64\n",
      " 8   Area_Type            1705 non-null   object \n",
      " 9   Area_City_Type       1705 non-null   object \n",
      " 10  Area_dist_level      1705 non-null   object \n",
      "dtypes: float64(3), int64(1), object(7)\n",
      "memory usage: 146.6+ KB\n",
      "None None\n"
     ]
    }
   ],
   "source": [
    "print(train.info(),test.info())"
   ]
  },
  {
   "cell_type": "code",
   "execution_count": 4,
   "id": "1d81d235",
   "metadata": {},
   "outputs": [
    {
     "data": {
      "text/html": [
       "<div>\n",
       "<style scoped>\n",
       "    .dataframe tbody tr th:only-of-type {\n",
       "        vertical-align: middle;\n",
       "    }\n",
       "\n",
       "    .dataframe tbody tr th {\n",
       "        vertical-align: top;\n",
       "    }\n",
       "\n",
       "    .dataframe thead th {\n",
       "        text-align: right;\n",
       "    }\n",
       "</style>\n",
       "<table border=\"1\" class=\"dataframe\">\n",
       "  <thead>\n",
       "    <tr style=\"text-align: right;\">\n",
       "      <th></th>\n",
       "      <th>Medicine_ID</th>\n",
       "      <th>Counterfeit_Weight</th>\n",
       "      <th>DistArea_ID</th>\n",
       "      <th>Active_Since</th>\n",
       "      <th>Medicine_MRP</th>\n",
       "      <th>Medicine_Type</th>\n",
       "      <th>SidEffect_Level</th>\n",
       "      <th>Availability_rating</th>\n",
       "      <th>Area_Type</th>\n",
       "      <th>Area_City_Type</th>\n",
       "      <th>Area_dist_level</th>\n",
       "      <th>Counterfeit_Sales</th>\n",
       "    </tr>\n",
       "  </thead>\n",
       "  <tbody>\n",
       "    <tr>\n",
       "      <th>0</th>\n",
       "      <td>RRA15</td>\n",
       "      <td>13.100</td>\n",
       "      <td>Area046</td>\n",
       "      <td>1995</td>\n",
       "      <td>160.2366</td>\n",
       "      <td>Antimalarial</td>\n",
       "      <td>critical</td>\n",
       "      <td>0.070422</td>\n",
       "      <td>DownTown</td>\n",
       "      <td>Tier 1</td>\n",
       "      <td>Small</td>\n",
       "      <td>1775.5026</td>\n",
       "    </tr>\n",
       "    <tr>\n",
       "      <th>1</th>\n",
       "      <td>YVV26</td>\n",
       "      <td>NaN</td>\n",
       "      <td>Area027</td>\n",
       "      <td>1983</td>\n",
       "      <td>110.4384</td>\n",
       "      <td>Mstablizers</td>\n",
       "      <td>mild</td>\n",
       "      <td>0.013000</td>\n",
       "      <td>CityLimits</td>\n",
       "      <td>Tier 3</td>\n",
       "      <td>Medium</td>\n",
       "      <td>3069.1520</td>\n",
       "    </tr>\n",
       "    <tr>\n",
       "      <th>2</th>\n",
       "      <td>LJC15</td>\n",
       "      <td>9.025</td>\n",
       "      <td>Area046</td>\n",
       "      <td>1995</td>\n",
       "      <td>259.4092</td>\n",
       "      <td>Cardiac</td>\n",
       "      <td>mild</td>\n",
       "      <td>0.060783</td>\n",
       "      <td>DownTown</td>\n",
       "      <td>Tier 1</td>\n",
       "      <td>Small</td>\n",
       "      <td>2603.0920</td>\n",
       "    </tr>\n",
       "    <tr>\n",
       "      <th>3</th>\n",
       "      <td>GWC40</td>\n",
       "      <td>11.800</td>\n",
       "      <td>Area046</td>\n",
       "      <td>1995</td>\n",
       "      <td>99.9830</td>\n",
       "      <td>OralContraceptives</td>\n",
       "      <td>mild</td>\n",
       "      <td>0.065555</td>\n",
       "      <td>DownTown</td>\n",
       "      <td>Tier 1</td>\n",
       "      <td>Small</td>\n",
       "      <td>1101.7130</td>\n",
       "    </tr>\n",
       "    <tr>\n",
       "      <th>4</th>\n",
       "      <td>QMN13</td>\n",
       "      <td>NaN</td>\n",
       "      <td>Area019</td>\n",
       "      <td>1983</td>\n",
       "      <td>56.4402</td>\n",
       "      <td>Hreplacements</td>\n",
       "      <td>critical</td>\n",
       "      <td>0.248859</td>\n",
       "      <td>MidTownResidential</td>\n",
       "      <td>Tier 1</td>\n",
       "      <td>Small</td>\n",
       "      <td>158.9402</td>\n",
       "    </tr>\n",
       "  </tbody>\n",
       "</table>\n",
       "</div>"
      ],
      "text/plain": [
       "  Medicine_ID  Counterfeit_Weight DistArea_ID  Active_Since  Medicine_MRP  \\\n",
       "0       RRA15              13.100     Area046          1995      160.2366   \n",
       "1       YVV26                 NaN     Area027          1983      110.4384   \n",
       "2       LJC15               9.025     Area046          1995      259.4092   \n",
       "3       GWC40              11.800     Area046          1995       99.9830   \n",
       "4       QMN13                 NaN     Area019          1983       56.4402   \n",
       "\n",
       "        Medicine_Type SidEffect_Level  Availability_rating  \\\n",
       "0        Antimalarial        critical             0.070422   \n",
       "1         Mstablizers            mild             0.013000   \n",
       "2             Cardiac            mild             0.060783   \n",
       "3  OralContraceptives            mild             0.065555   \n",
       "4       Hreplacements        critical             0.248859   \n",
       "\n",
       "            Area_Type Area_City_Type Area_dist_level  Counterfeit_Sales  \n",
       "0            DownTown         Tier 1           Small          1775.5026  \n",
       "1          CityLimits         Tier 3          Medium          3069.1520  \n",
       "2            DownTown         Tier 1           Small          2603.0920  \n",
       "3            DownTown         Tier 1           Small          1101.7130  \n",
       "4  MidTownResidential         Tier 1           Small           158.9402  "
      ]
     },
     "execution_count": 4,
     "metadata": {},
     "output_type": "execute_result"
    }
   ],
   "source": [
    "# Displaying values in a dataframe\n",
    "train.head()"
   ]
  },
  {
   "cell_type": "code",
   "execution_count": 5,
   "id": "c2e4a362",
   "metadata": {},
   "outputs": [
    {
     "data": {
      "text/html": [
       "<div>\n",
       "<style scoped>\n",
       "    .dataframe tbody tr th:only-of-type {\n",
       "        vertical-align: middle;\n",
       "    }\n",
       "\n",
       "    .dataframe tbody tr th {\n",
       "        vertical-align: top;\n",
       "    }\n",
       "\n",
       "    .dataframe thead th {\n",
       "        text-align: right;\n",
       "    }\n",
       "</style>\n",
       "<table border=\"1\" class=\"dataframe\">\n",
       "  <thead>\n",
       "    <tr style=\"text-align: right;\">\n",
       "      <th></th>\n",
       "      <th>Medicine_ID</th>\n",
       "      <th>Counterfeit_Weight</th>\n",
       "      <th>DistArea_ID</th>\n",
       "      <th>Active_Since</th>\n",
       "      <th>Medicine_MRP</th>\n",
       "      <th>Medicine_Type</th>\n",
       "      <th>SidEffect_Level</th>\n",
       "      <th>Availability_rating</th>\n",
       "      <th>Area_Type</th>\n",
       "      <th>Area_City_Type</th>\n",
       "      <th>Area_dist_level</th>\n",
       "    </tr>\n",
       "  </thead>\n",
       "  <tbody>\n",
       "    <tr>\n",
       "      <th>0</th>\n",
       "      <td>HLZ81</td>\n",
       "      <td>NaN</td>\n",
       "      <td>Area027</td>\n",
       "      <td>1983</td>\n",
       "      <td>85.5328</td>\n",
       "      <td>Antibiotics</td>\n",
       "      <td>mild</td>\n",
       "      <td>0.112747</td>\n",
       "      <td>CityLimits</td>\n",
       "      <td>Tier 3</td>\n",
       "      <td>Medium</td>\n",
       "    </tr>\n",
       "    <tr>\n",
       "      <th>1</th>\n",
       "      <td>ECE94</td>\n",
       "      <td>13.45</td>\n",
       "      <td>Area045</td>\n",
       "      <td>2000</td>\n",
       "      <td>257.1460</td>\n",
       "      <td>OralContraceptives</td>\n",
       "      <td>mild</td>\n",
       "      <td>0.144446</td>\n",
       "      <td>DownTown</td>\n",
       "      <td>Tier 2</td>\n",
       "      <td>Unknown</td>\n",
       "    </tr>\n",
       "    <tr>\n",
       "      <th>2</th>\n",
       "      <td>SAD14</td>\n",
       "      <td>7.10</td>\n",
       "      <td>Area045</td>\n",
       "      <td>2000</td>\n",
       "      <td>98.1172</td>\n",
       "      <td>Antipyretics</td>\n",
       "      <td>mild</td>\n",
       "      <td>0.144221</td>\n",
       "      <td>DownTown</td>\n",
       "      <td>Tier 2</td>\n",
       "      <td>Unknown</td>\n",
       "    </tr>\n",
       "    <tr>\n",
       "      <th>3</th>\n",
       "      <td>EQV63</td>\n",
       "      <td>18.30</td>\n",
       "      <td>Area010</td>\n",
       "      <td>1996</td>\n",
       "      <td>135.3730</td>\n",
       "      <td>Tranquilizers</td>\n",
       "      <td>mild</td>\n",
       "      <td>0.100388</td>\n",
       "      <td>MidTownResidential</td>\n",
       "      <td>Tier 3</td>\n",
       "      <td>Unknown</td>\n",
       "    </tr>\n",
       "    <tr>\n",
       "      <th>4</th>\n",
       "      <td>AIR10</td>\n",
       "      <td>NaN</td>\n",
       "      <td>Area019</td>\n",
       "      <td>1983</td>\n",
       "      <td>112.8016</td>\n",
       "      <td>OralContraceptives</td>\n",
       "      <td>mild</td>\n",
       "      <td>0.022585</td>\n",
       "      <td>MidTownResidential</td>\n",
       "      <td>Tier 1</td>\n",
       "      <td>Small</td>\n",
       "    </tr>\n",
       "  </tbody>\n",
       "</table>\n",
       "</div>"
      ],
      "text/plain": [
       "  Medicine_ID  Counterfeit_Weight DistArea_ID  Active_Since  Medicine_MRP  \\\n",
       "0       HLZ81                 NaN     Area027          1983       85.5328   \n",
       "1       ECE94               13.45     Area045          2000      257.1460   \n",
       "2       SAD14                7.10     Area045          2000       98.1172   \n",
       "3       EQV63               18.30     Area010          1996      135.3730   \n",
       "4       AIR10                 NaN     Area019          1983      112.8016   \n",
       "\n",
       "        Medicine_Type SidEffect_Level  Availability_rating  \\\n",
       "0         Antibiotics            mild             0.112747   \n",
       "1  OralContraceptives            mild             0.144446   \n",
       "2        Antipyretics            mild             0.144221   \n",
       "3       Tranquilizers            mild             0.100388   \n",
       "4  OralContraceptives            mild             0.022585   \n",
       "\n",
       "            Area_Type Area_City_Type Area_dist_level  \n",
       "0          CityLimits         Tier 3          Medium  \n",
       "1            DownTown         Tier 2         Unknown  \n",
       "2            DownTown         Tier 2         Unknown  \n",
       "3  MidTownResidential         Tier 3         Unknown  \n",
       "4  MidTownResidential         Tier 1           Small  "
      ]
     },
     "execution_count": 5,
     "metadata": {},
     "output_type": "execute_result"
    }
   ],
   "source": [
    "# Displaying values in a dataframe\n",
    "test.head()"
   ]
  },
  {
   "cell_type": "code",
   "execution_count": 6,
   "id": "9d378cd4",
   "metadata": {},
   "outputs": [
    {
     "name": "stdout",
     "output_type": "stream",
     "text": [
      "(6818, 12) (1705, 11)\n"
     ]
    }
   ],
   "source": [
    "# Displaying shape of dataframe\n",
    "\n",
    "print(train.shape, test.shape)"
   ]
  },
  {
   "cell_type": "code",
   "execution_count": 7,
   "id": "d682308a",
   "metadata": {},
   "outputs": [
    {
     "data": {
      "text/plain": [
       "Medicine_ID               0\n",
       "Counterfeit_Weight     1166\n",
       "DistArea_ID               0\n",
       "Active_Since              0\n",
       "Medicine_MRP              0\n",
       "Medicine_Type             0\n",
       "SidEffect_Level           0\n",
       "Availability_rating       0\n",
       "Area_Type                 0\n",
       "Area_City_Type            0\n",
       "Area_dist_level           0\n",
       "Counterfeit_Sales         0\n",
       "dtype: int64"
      ]
     },
     "execution_count": 7,
     "metadata": {},
     "output_type": "execute_result"
    }
   ],
   "source": [
    "#count of null values for specific columns in dataframe\n",
    "train.isnull().sum()"
   ]
  },
  {
   "cell_type": "code",
   "execution_count": 8,
   "id": "6b74821c",
   "metadata": {
    "scrolled": false
   },
   "outputs": [
    {
     "data": {
      "text/plain": [
       "Medicine_ID              0\n",
       "Counterfeit_Weight     297\n",
       "DistArea_ID              0\n",
       "Active_Since             0\n",
       "Medicine_MRP             0\n",
       "Medicine_Type            0\n",
       "SidEffect_Level          0\n",
       "Availability_rating      0\n",
       "Area_Type                0\n",
       "Area_City_Type           0\n",
       "Area_dist_level          0\n",
       "dtype: int64"
      ]
     },
     "execution_count": 8,
     "metadata": {},
     "output_type": "execute_result"
    }
   ],
   "source": [
    "#count of null values for specific columns in dataframe\n",
    "test.isnull().sum()"
   ]
  },
  {
   "cell_type": "code",
   "execution_count": 9,
   "id": "9dee48b6",
   "metadata": {},
   "outputs": [],
   "source": [
    "train_missing_values = ['Counterfeit_Weight']\n",
    "\n",
    "for i in train_missing_values:\n",
    "    if train[i].isnull().sum()!= 0:\n",
    "        train[i]=train[i].fillna(train[i].mean())\n",
    "        \n",
    "test_missing_values = ['Counterfeit_Weight']\n",
    "\n",
    "for i in test_missing_values:\n",
    "    if test[i].isnull().sum()!= 0:\n",
    "        test[i]=test[i].fillna(test[i].mean())"
   ]
  },
  {
   "cell_type": "code",
   "execution_count": 10,
   "id": "1a7a302a",
   "metadata": {},
   "outputs": [
    {
     "data": {
      "text/plain": [
       "Medicine_ID            0\n",
       "Counterfeit_Weight     0\n",
       "DistArea_ID            0\n",
       "Active_Since           0\n",
       "Medicine_MRP           0\n",
       "Medicine_Type          0\n",
       "SidEffect_Level        0\n",
       "Availability_rating    0\n",
       "Area_Type              0\n",
       "Area_City_Type         0\n",
       "Area_dist_level        0\n",
       "Counterfeit_Sales      0\n",
       "dtype: int64"
      ]
     },
     "execution_count": 10,
     "metadata": {},
     "output_type": "execute_result"
    }
   ],
   "source": [
    "#count of null values for specific columns in dataframe\n",
    "train.isnull().sum()"
   ]
  },
  {
   "cell_type": "code",
   "execution_count": 11,
   "id": "9b41b21c",
   "metadata": {
    "scrolled": true
   },
   "outputs": [
    {
     "name": "stdout",
     "output_type": "stream",
     "text": [
      "Medicine_ID            1557\n",
      "Counterfeit_Weight      415\n",
      "DistArea_ID              10\n",
      "Active_Since              9\n",
      "Medicine_MRP           5097\n",
      "Medicine_Type            16\n",
      "SidEffect_Level           2\n",
      "Availability_rating    6317\n",
      "Area_Type                 4\n",
      "Area_City_Type            3\n",
      "Area_dist_level           4\n",
      "Counterfeit_Sales      3142\n",
      "dtype: int64\n"
     ]
    }
   ],
   "source": [
    "#checking unique values in each column\n",
    "print(train.nunique())"
   ]
  },
  {
   "cell_type": "code",
   "execution_count": 12,
   "id": "b4f2fd74",
   "metadata": {},
   "outputs": [
    {
     "data": {
      "text/plain": [
       "Medicine_ID             object\n",
       "Counterfeit_Weight     float64\n",
       "DistArea_ID             object\n",
       "Active_Since             int64\n",
       "Medicine_MRP           float64\n",
       "Medicine_Type           object\n",
       "SidEffect_Level         object\n",
       "Availability_rating    float64\n",
       "Area_Type               object\n",
       "Area_City_Type          object\n",
       "Area_dist_level         object\n",
       "Counterfeit_Sales      float64\n",
       "dtype: object"
      ]
     },
     "execution_count": 12,
     "metadata": {},
     "output_type": "execute_result"
    }
   ],
   "source": [
    "train.dtypes"
   ]
  },
  {
   "cell_type": "code",
   "execution_count": 13,
   "id": "d045c20a",
   "metadata": {},
   "outputs": [
    {
     "data": {
      "text/html": [
       "<div>\n",
       "<style scoped>\n",
       "    .dataframe tbody tr th:only-of-type {\n",
       "        vertical-align: middle;\n",
       "    }\n",
       "\n",
       "    .dataframe tbody tr th {\n",
       "        vertical-align: top;\n",
       "    }\n",
       "\n",
       "    .dataframe thead th {\n",
       "        text-align: right;\n",
       "    }\n",
       "</style>\n",
       "<table border=\"1\" class=\"dataframe\">\n",
       "  <thead>\n",
       "    <tr style=\"text-align: right;\">\n",
       "      <th></th>\n",
       "      <th>Medicine_ID</th>\n",
       "      <th>Counterfeit_Weight</th>\n",
       "      <th>DistArea_ID</th>\n",
       "      <th>Active_Since</th>\n",
       "      <th>Medicine_MRP</th>\n",
       "      <th>Medicine_Type</th>\n",
       "      <th>SidEffect_Level</th>\n",
       "      <th>Availability_rating</th>\n",
       "      <th>Area_Type</th>\n",
       "      <th>Area_City_Type</th>\n",
       "      <th>Area_dist_level</th>\n",
       "      <th>Counterfeit_Sales</th>\n",
       "    </tr>\n",
       "  </thead>\n",
       "  <tbody>\n",
       "    <tr>\n",
       "      <th>0</th>\n",
       "      <td>RRA15</td>\n",
       "      <td>13.100000</td>\n",
       "      <td>Area046</td>\n",
       "      <td>1995</td>\n",
       "      <td>160.2366</td>\n",
       "      <td>Antimalarial</td>\n",
       "      <td>critical</td>\n",
       "      <td>0.070422</td>\n",
       "      <td>DownTown</td>\n",
       "      <td>Tier 1</td>\n",
       "      <td>Small</td>\n",
       "      <td>1775.5026</td>\n",
       "    </tr>\n",
       "    <tr>\n",
       "      <th>1</th>\n",
       "      <td>YVV26</td>\n",
       "      <td>14.115057</td>\n",
       "      <td>Area027</td>\n",
       "      <td>1983</td>\n",
       "      <td>110.4384</td>\n",
       "      <td>Mstablizers</td>\n",
       "      <td>mild</td>\n",
       "      <td>0.013000</td>\n",
       "      <td>CityLimits</td>\n",
       "      <td>Tier 3</td>\n",
       "      <td>Medium</td>\n",
       "      <td>3069.1520</td>\n",
       "    </tr>\n",
       "    <tr>\n",
       "      <th>2</th>\n",
       "      <td>LJC15</td>\n",
       "      <td>9.025000</td>\n",
       "      <td>Area046</td>\n",
       "      <td>1995</td>\n",
       "      <td>259.4092</td>\n",
       "      <td>Cardiac</td>\n",
       "      <td>mild</td>\n",
       "      <td>0.060783</td>\n",
       "      <td>DownTown</td>\n",
       "      <td>Tier 1</td>\n",
       "      <td>Small</td>\n",
       "      <td>2603.0920</td>\n",
       "    </tr>\n",
       "    <tr>\n",
       "      <th>3</th>\n",
       "      <td>GWC40</td>\n",
       "      <td>11.800000</td>\n",
       "      <td>Area046</td>\n",
       "      <td>1995</td>\n",
       "      <td>99.9830</td>\n",
       "      <td>OralContraceptives</td>\n",
       "      <td>mild</td>\n",
       "      <td>0.065555</td>\n",
       "      <td>DownTown</td>\n",
       "      <td>Tier 1</td>\n",
       "      <td>Small</td>\n",
       "      <td>1101.7130</td>\n",
       "    </tr>\n",
       "    <tr>\n",
       "      <th>4</th>\n",
       "      <td>QMN13</td>\n",
       "      <td>14.115057</td>\n",
       "      <td>Area019</td>\n",
       "      <td>1983</td>\n",
       "      <td>56.4402</td>\n",
       "      <td>Hreplacements</td>\n",
       "      <td>critical</td>\n",
       "      <td>0.248859</td>\n",
       "      <td>MidTownResidential</td>\n",
       "      <td>Tier 1</td>\n",
       "      <td>Small</td>\n",
       "      <td>158.9402</td>\n",
       "    </tr>\n",
       "  </tbody>\n",
       "</table>\n",
       "</div>"
      ],
      "text/plain": [
       "  Medicine_ID  Counterfeit_Weight DistArea_ID  Active_Since  Medicine_MRP  \\\n",
       "0       RRA15           13.100000     Area046          1995      160.2366   \n",
       "1       YVV26           14.115057     Area027          1983      110.4384   \n",
       "2       LJC15            9.025000     Area046          1995      259.4092   \n",
       "3       GWC40           11.800000     Area046          1995       99.9830   \n",
       "4       QMN13           14.115057     Area019          1983       56.4402   \n",
       "\n",
       "        Medicine_Type SidEffect_Level  Availability_rating  \\\n",
       "0        Antimalarial        critical             0.070422   \n",
       "1         Mstablizers            mild             0.013000   \n",
       "2             Cardiac            mild             0.060783   \n",
       "3  OralContraceptives            mild             0.065555   \n",
       "4       Hreplacements        critical             0.248859   \n",
       "\n",
       "            Area_Type Area_City_Type Area_dist_level  Counterfeit_Sales  \n",
       "0            DownTown         Tier 1           Small          1775.5026  \n",
       "1          CityLimits         Tier 3          Medium          3069.1520  \n",
       "2            DownTown         Tier 1           Small          2603.0920  \n",
       "3            DownTown         Tier 1           Small          1101.7130  \n",
       "4  MidTownResidential         Tier 1           Small           158.9402  "
      ]
     },
     "execution_count": 13,
     "metadata": {},
     "output_type": "execute_result"
    }
   ],
   "source": [
    "train.head()"
   ]
  },
  {
   "cell_type": "raw",
   "id": "839815c6",
   "metadata": {},
   "source": []
  },
  {
   "cell_type": "code",
   "execution_count": 14,
   "id": "c90fc5de",
   "metadata": {},
   "outputs": [],
   "source": [
    "# Active since till today\n",
    "train['Years'] = 2023-train['Active_Since']\n",
    "# Drop Active_Since\n",
    "train.drop('Active_Since', axis=1, inplace=True)\n",
    "\n",
    "test['Years'] = 2023-test['Active_Since']\n",
    "# Drop Active_Since\n",
    "test.drop('Active_Since', axis=1, inplace=True)"
   ]
  },
  {
   "cell_type": "code",
   "execution_count": 15,
   "id": "5c2f1497",
   "metadata": {},
   "outputs": [
    {
     "data": {
      "text/plain": [
       "Area017    760\n",
       "Area046    749\n",
       "Area013    749\n",
       "Area035    748\n",
       "Area049    739\n",
       "Area045    736\n",
       "Area027    735\n",
       "Area018    729\n",
       "Area010    442\n",
       "Area019    431\n",
       "Name: DistArea_ID, dtype: int64"
      ]
     },
     "execution_count": 15,
     "metadata": {},
     "output_type": "execute_result"
    }
   ],
   "source": [
    "train['DistArea_ID'].value_counts()"
   ]
  },
  {
   "cell_type": "code",
   "execution_count": 16,
   "id": "5d73ae8d",
   "metadata": {
    "scrolled": true
   },
   "outputs": [
    {
     "data": {
      "text/plain": [
       "Hreplacements         976\n",
       "Antibiotics           970\n",
       "Antiseptics           724\n",
       "OralContraceptives    694\n",
       "Antipyretics          536\n",
       "Cardiac               522\n",
       "Mstablizers           514\n",
       "Tranquilizers         420\n",
       "Analgesics            356\n",
       "Antimalarial          339\n",
       "Antacids              206\n",
       "Statins               167\n",
       "MuscleRelaxants       139\n",
       "Antifungal            111\n",
       "Stimulants             95\n",
       "Antiviral              49\n",
       "Name: Medicine_Type, dtype: int64"
      ]
     },
     "execution_count": 16,
     "metadata": {},
     "output_type": "execute_result"
    }
   ],
   "source": [
    "train['Medicine_Type'].value_counts()"
   ]
  },
  {
   "cell_type": "code",
   "execution_count": 17,
   "id": "4fcd28d6",
   "metadata": {},
   "outputs": [
    {
     "data": {
      "text/plain": [
       "mild        4434\n",
       "critical    2384\n",
       "Name: SidEffect_Level, dtype: int64"
      ]
     },
     "execution_count": 17,
     "metadata": {},
     "output_type": "execute_result"
    }
   ],
   "source": [
    "train['SidEffect_Level'].value_counts()"
   ]
  },
  {
   "cell_type": "code",
   "execution_count": 18,
   "id": "16ec84ba",
   "metadata": {
    "scrolled": true
   },
   "outputs": [
    {
     "data": {
      "text/plain": [
       "Medium     2203\n",
       "Unknown    1938\n",
       "Small      1928\n",
       "High        749\n",
       "Name: Area_dist_level, dtype: int64"
      ]
     },
     "execution_count": 18,
     "metadata": {},
     "output_type": "execute_result"
    }
   ],
   "source": [
    "train['Area_dist_level'].value_counts()"
   ]
  },
  {
   "cell_type": "code",
   "execution_count": 19,
   "id": "4a6d8237",
   "metadata": {
    "scrolled": true
   },
   "outputs": [
    {
     "data": {
      "text/plain": [
       "Tier 3    2655\n",
       "Tier 2    2244\n",
       "Tier 1    1919\n",
       "Name: Area_City_Type, dtype: int64"
      ]
     },
     "execution_count": 19,
     "metadata": {},
     "output_type": "execute_result"
    }
   ],
   "source": [
    "train['Area_City_Type'].value_counts()"
   ]
  },
  {
   "cell_type": "code",
   "execution_count": 20,
   "id": "96318372",
   "metadata": {
    "scrolled": false
   },
   "outputs": [
    {
     "data": {
      "text/plain": [
       "DownTown              4481\n",
       "MidTownResidential     873\n",
       "CityLimits             735\n",
       "Industrial             729\n",
       "Name: Area_Type, dtype: int64"
      ]
     },
     "execution_count": 20,
     "metadata": {},
     "output_type": "execute_result"
    }
   ],
   "source": [
    "train['Area_Type'].value_counts()"
   ]
  },
  {
   "cell_type": "code",
   "execution_count": 21,
   "id": "d628025d",
   "metadata": {},
   "outputs": [],
   "source": [
    "# For categorical variables, we will create dummies\n",
    "for col in ['Medicine_Type','SidEffect_Level','Area_Type','Area_City_Type','Area_dist_level',\"DistArea_ID\"]:  \n",
    "    temp = pd.get_dummies(train[col], prefix=col, drop_first=True)\n",
    "    train = pd.concat([train, temp],1)\n",
    "    train.drop([col],1,inplace=True)\n",
    "       \n",
    "    temp = pd.get_dummies(test[col], prefix=col, drop_first=True)\n",
    "    test = pd.concat([test, temp],1)\n",
    "    test.drop([col],1,inplace=True)"
   ]
  },
  {
   "cell_type": "code",
   "execution_count": 22,
   "id": "27b37682",
   "metadata": {},
   "outputs": [
    {
     "data": {
      "text/html": [
       "<div>\n",
       "<style scoped>\n",
       "    .dataframe tbody tr th:only-of-type {\n",
       "        vertical-align: middle;\n",
       "    }\n",
       "\n",
       "    .dataframe tbody tr th {\n",
       "        vertical-align: top;\n",
       "    }\n",
       "\n",
       "    .dataframe thead th {\n",
       "        text-align: right;\n",
       "    }\n",
       "</style>\n",
       "<table border=\"1\" class=\"dataframe\">\n",
       "  <thead>\n",
       "    <tr style=\"text-align: right;\">\n",
       "      <th></th>\n",
       "      <th>Medicine_ID</th>\n",
       "      <th>Counterfeit_Weight</th>\n",
       "      <th>Medicine_MRP</th>\n",
       "      <th>Availability_rating</th>\n",
       "      <th>Counterfeit_Sales</th>\n",
       "      <th>Years</th>\n",
       "      <th>Medicine_Type_Antacids</th>\n",
       "      <th>Medicine_Type_Antibiotics</th>\n",
       "      <th>Medicine_Type_Antifungal</th>\n",
       "      <th>Medicine_Type_Antimalarial</th>\n",
       "      <th>...</th>\n",
       "      <th>Area_dist_level_Unknown</th>\n",
       "      <th>DistArea_ID_Area013</th>\n",
       "      <th>DistArea_ID_Area017</th>\n",
       "      <th>DistArea_ID_Area018</th>\n",
       "      <th>DistArea_ID_Area019</th>\n",
       "      <th>DistArea_ID_Area027</th>\n",
       "      <th>DistArea_ID_Area035</th>\n",
       "      <th>DistArea_ID_Area045</th>\n",
       "      <th>DistArea_ID_Area046</th>\n",
       "      <th>DistArea_ID_Area049</th>\n",
       "    </tr>\n",
       "  </thead>\n",
       "  <tbody>\n",
       "    <tr>\n",
       "      <th>0</th>\n",
       "      <td>RRA15</td>\n",
       "      <td>13.100000</td>\n",
       "      <td>160.2366</td>\n",
       "      <td>0.070422</td>\n",
       "      <td>1775.5026</td>\n",
       "      <td>28</td>\n",
       "      <td>0</td>\n",
       "      <td>0</td>\n",
       "      <td>0</td>\n",
       "      <td>1</td>\n",
       "      <td>...</td>\n",
       "      <td>0</td>\n",
       "      <td>0</td>\n",
       "      <td>0</td>\n",
       "      <td>0</td>\n",
       "      <td>0</td>\n",
       "      <td>0</td>\n",
       "      <td>0</td>\n",
       "      <td>0</td>\n",
       "      <td>1</td>\n",
       "      <td>0</td>\n",
       "    </tr>\n",
       "    <tr>\n",
       "      <th>1</th>\n",
       "      <td>YVV26</td>\n",
       "      <td>14.115057</td>\n",
       "      <td>110.4384</td>\n",
       "      <td>0.013000</td>\n",
       "      <td>3069.1520</td>\n",
       "      <td>40</td>\n",
       "      <td>0</td>\n",
       "      <td>0</td>\n",
       "      <td>0</td>\n",
       "      <td>0</td>\n",
       "      <td>...</td>\n",
       "      <td>0</td>\n",
       "      <td>0</td>\n",
       "      <td>0</td>\n",
       "      <td>0</td>\n",
       "      <td>0</td>\n",
       "      <td>1</td>\n",
       "      <td>0</td>\n",
       "      <td>0</td>\n",
       "      <td>0</td>\n",
       "      <td>0</td>\n",
       "    </tr>\n",
       "    <tr>\n",
       "      <th>2</th>\n",
       "      <td>LJC15</td>\n",
       "      <td>9.025000</td>\n",
       "      <td>259.4092</td>\n",
       "      <td>0.060783</td>\n",
       "      <td>2603.0920</td>\n",
       "      <td>28</td>\n",
       "      <td>0</td>\n",
       "      <td>0</td>\n",
       "      <td>0</td>\n",
       "      <td>0</td>\n",
       "      <td>...</td>\n",
       "      <td>0</td>\n",
       "      <td>0</td>\n",
       "      <td>0</td>\n",
       "      <td>0</td>\n",
       "      <td>0</td>\n",
       "      <td>0</td>\n",
       "      <td>0</td>\n",
       "      <td>0</td>\n",
       "      <td>1</td>\n",
       "      <td>0</td>\n",
       "    </tr>\n",
       "    <tr>\n",
       "      <th>3</th>\n",
       "      <td>GWC40</td>\n",
       "      <td>11.800000</td>\n",
       "      <td>99.9830</td>\n",
       "      <td>0.065555</td>\n",
       "      <td>1101.7130</td>\n",
       "      <td>28</td>\n",
       "      <td>0</td>\n",
       "      <td>0</td>\n",
       "      <td>0</td>\n",
       "      <td>0</td>\n",
       "      <td>...</td>\n",
       "      <td>0</td>\n",
       "      <td>0</td>\n",
       "      <td>0</td>\n",
       "      <td>0</td>\n",
       "      <td>0</td>\n",
       "      <td>0</td>\n",
       "      <td>0</td>\n",
       "      <td>0</td>\n",
       "      <td>1</td>\n",
       "      <td>0</td>\n",
       "    </tr>\n",
       "    <tr>\n",
       "      <th>4</th>\n",
       "      <td>QMN13</td>\n",
       "      <td>14.115057</td>\n",
       "      <td>56.4402</td>\n",
       "      <td>0.248859</td>\n",
       "      <td>158.9402</td>\n",
       "      <td>40</td>\n",
       "      <td>0</td>\n",
       "      <td>0</td>\n",
       "      <td>0</td>\n",
       "      <td>0</td>\n",
       "      <td>...</td>\n",
       "      <td>0</td>\n",
       "      <td>0</td>\n",
       "      <td>0</td>\n",
       "      <td>0</td>\n",
       "      <td>1</td>\n",
       "      <td>0</td>\n",
       "      <td>0</td>\n",
       "      <td>0</td>\n",
       "      <td>0</td>\n",
       "      <td>0</td>\n",
       "    </tr>\n",
       "  </tbody>\n",
       "</table>\n",
       "<p>5 rows × 39 columns</p>\n",
       "</div>"
      ],
      "text/plain": [
       "  Medicine_ID  Counterfeit_Weight  Medicine_MRP  Availability_rating  \\\n",
       "0       RRA15           13.100000      160.2366             0.070422   \n",
       "1       YVV26           14.115057      110.4384             0.013000   \n",
       "2       LJC15            9.025000      259.4092             0.060783   \n",
       "3       GWC40           11.800000       99.9830             0.065555   \n",
       "4       QMN13           14.115057       56.4402             0.248859   \n",
       "\n",
       "   Counterfeit_Sales  Years  Medicine_Type_Antacids  \\\n",
       "0          1775.5026     28                       0   \n",
       "1          3069.1520     40                       0   \n",
       "2          2603.0920     28                       0   \n",
       "3          1101.7130     28                       0   \n",
       "4           158.9402     40                       0   \n",
       "\n",
       "   Medicine_Type_Antibiotics  Medicine_Type_Antifungal  \\\n",
       "0                          0                         0   \n",
       "1                          0                         0   \n",
       "2                          0                         0   \n",
       "3                          0                         0   \n",
       "4                          0                         0   \n",
       "\n",
       "   Medicine_Type_Antimalarial  ...  Area_dist_level_Unknown  \\\n",
       "0                           1  ...                        0   \n",
       "1                           0  ...                        0   \n",
       "2                           0  ...                        0   \n",
       "3                           0  ...                        0   \n",
       "4                           0  ...                        0   \n",
       "\n",
       "   DistArea_ID_Area013  DistArea_ID_Area017  DistArea_ID_Area018  \\\n",
       "0                    0                    0                    0   \n",
       "1                    0                    0                    0   \n",
       "2                    0                    0                    0   \n",
       "3                    0                    0                    0   \n",
       "4                    0                    0                    0   \n",
       "\n",
       "   DistArea_ID_Area019  DistArea_ID_Area027  DistArea_ID_Area035  \\\n",
       "0                    0                    0                    0   \n",
       "1                    0                    1                    0   \n",
       "2                    0                    0                    0   \n",
       "3                    0                    0                    0   \n",
       "4                    1                    0                    0   \n",
       "\n",
       "   DistArea_ID_Area045  DistArea_ID_Area046  DistArea_ID_Area049  \n",
       "0                    0                    1                    0  \n",
       "1                    0                    0                    0  \n",
       "2                    0                    1                    0  \n",
       "3                    0                    1                    0  \n",
       "4                    0                    0                    0  \n",
       "\n",
       "[5 rows x 39 columns]"
      ]
     },
     "execution_count": 22,
     "metadata": {},
     "output_type": "execute_result"
    }
   ],
   "source": [
    "train.head()"
   ]
  },
  {
   "cell_type": "code",
   "execution_count": 23,
   "id": "ccee9861",
   "metadata": {},
   "outputs": [
    {
     "name": "stdout",
     "output_type": "stream",
     "text": [
      "(6818, 37) (6818,)\n"
     ]
    }
   ],
   "source": [
    "# Dependent variables and independent variables\n",
    "X = train.drop(['Counterfeit_Sales','Medicine_ID'], axis=1)\n",
    "Y = train['Counterfeit_Sales']\n",
    "print(X.shape, Y.shape)"
   ]
  },
  {
   "cell_type": "code",
   "execution_count": 24,
   "id": "43b350b5",
   "metadata": {},
   "outputs": [
    {
     "name": "stdout",
     "output_type": "stream",
     "text": [
      "(5454, 37) (1364, 37) (5454,) (1364,)\n"
     ]
    }
   ],
   "source": [
    "# Splitting data into train & test\n",
    "from sklearn.model_selection import train_test_split\n",
    "X_train,X_test,Y_train,Y_test = train_test_split(X, Y, test_size=0.2, random_state=18)\n",
    "print(X_train.shape, X_test.shape, Y_train.shape, Y_test.shape)"
   ]
  },
  {
   "cell_type": "code",
   "execution_count": 25,
   "id": "958995d9",
   "metadata": {},
   "outputs": [],
   "source": [
    "# Model building- Linear Regression\n",
    "from sklearn.linear_model import LinearRegression\n",
    "lm = LinearRegression()"
   ]
  },
  {
   "cell_type": "code",
   "execution_count": 26,
   "id": "38c52a32",
   "metadata": {},
   "outputs": [
    {
     "data": {
      "text/plain": [
       "LinearRegression()"
      ]
     },
     "execution_count": 26,
     "metadata": {},
     "output_type": "execute_result"
    }
   ],
   "source": [
    "# fitting the model\n",
    "lm.fit(X_train, Y_train)"
   ]
  },
  {
   "cell_type": "code",
   "execution_count": 27,
   "id": "b7aa8039",
   "metadata": {},
   "outputs": [],
   "source": [
    "# Predict the target variable for the validation set\n",
    "y_pred_train = lm.predict(X_train)"
   ]
  },
  {
   "cell_type": "code",
   "execution_count": 28,
   "id": "338d5b8e",
   "metadata": {},
   "outputs": [
    {
     "name": "stdout",
     "output_type": "stream",
     "text": [
      "R squared error :  0.5622070380564801\n",
      "Mean Absolute Error :  826.9366272878327\n"
     ]
    }
   ],
   "source": [
    "# Model Evaluation\n",
    "# R squared error\n",
    "score_1 = metrics.r2_score(Y_train, y_pred_train)\n",
    "\n",
    "# Mean Absolute Error\n",
    "score_2 = metrics.mean_absolute_error(Y_train, y_pred_train)\n",
    "\n",
    "print(\"R squared error : \", score_1)\n",
    "print('Mean Absolute Error : ', score_2)"
   ]
  },
  {
   "cell_type": "code",
   "execution_count": 29,
   "id": "a48aab2e",
   "metadata": {},
   "outputs": [
    {
     "data": {
      "text/plain": [
       "0.5018454052482935"
      ]
     },
     "execution_count": 29,
     "metadata": {},
     "output_type": "execute_result"
    }
   ],
   "source": [
    "score_mae_1 = 1-(score_2/1660)\n",
    "score_mae_1"
   ]
  },
  {
   "cell_type": "code",
   "execution_count": 30,
   "id": "aeaf7bee",
   "metadata": {},
   "outputs": [],
   "source": [
    "# Hyperparameter Tuning\n",
    "parameters = parameter = { 'fit_intercept':['True','False'],'n_jobs':[-1]}"
   ]
  },
  {
   "cell_type": "code",
   "execution_count": 31,
   "id": "c3a69bf0",
   "metadata": {},
   "outputs": [],
   "source": [
    "# Grid search\n",
    "lm_regressor = GridSearchCV(lm, param_grid=parameters, cv=5)"
   ]
  },
  {
   "cell_type": "code",
   "execution_count": 32,
   "id": "221f1f63",
   "metadata": {},
   "outputs": [
    {
     "data": {
      "text/plain": [
       "GridSearchCV(cv=5, estimator=LinearRegression(),\n",
       "             param_grid={'fit_intercept': ['True', 'False'], 'n_jobs': [-1]})"
      ]
     },
     "execution_count": 32,
     "metadata": {},
     "output_type": "execute_result"
    }
   ],
   "source": [
    "# fitting the data to model\n",
    "lm_regressor.fit(X_train, Y_train)"
   ]
  },
  {
   "cell_type": "code",
   "execution_count": 33,
   "id": "b1ff5864",
   "metadata": {},
   "outputs": [
    {
     "name": "stdout",
     "output_type": "stream",
     "text": [
      "{'fit_intercept': 'True', 'n_jobs': -1} 0.5570164732452151\n"
     ]
    }
   ],
   "source": [
    "# best parameters & highest accuracy\n",
    "\n",
    "print(lm_regressor.best_params_, lm_regressor.best_score_)"
   ]
  },
  {
   "cell_type": "code",
   "execution_count": 34,
   "id": "852d8f5e",
   "metadata": {},
   "outputs": [],
   "source": [
    "y_pred_train_hyp = lm_regressor.predict(X_train)"
   ]
  },
  {
   "cell_type": "code",
   "execution_count": 35,
   "id": "6a7b568b",
   "metadata": {},
   "outputs": [
    {
     "name": "stdout",
     "output_type": "stream",
     "text": [
      "R squared error :  0.5622070380564801\n",
      "Mean Absolute Error :  826.9366272878327\n"
     ]
    }
   ],
   "source": [
    "# Model Evaluation\n",
    "# R squared error\n",
    "score_3 = metrics.r2_score(Y_train, y_pred_train_hyp)\n",
    "\n",
    "# Mean Absolute Error\n",
    "score_4 = metrics.mean_absolute_error(Y_train, y_pred_train_hyp)\n",
    "\n",
    "print(\"R squared error : \", score_3)\n",
    "print('Mean Absolute Error : ', score_4)"
   ]
  },
  {
   "cell_type": "code",
   "execution_count": 36,
   "id": "75e8eb75",
   "metadata": {},
   "outputs": [
    {
     "data": {
      "text/plain": [
       "0.5018454052482935"
      ]
     },
     "execution_count": 36,
     "metadata": {},
     "output_type": "execute_result"
    }
   ],
   "source": [
    "score_mae_2 = 1-(score_4/1660)\n",
    "score_mae_2"
   ]
  },
  {
   "cell_type": "code",
   "execution_count": 37,
   "id": "93c8a1f3",
   "metadata": {},
   "outputs": [],
   "source": [
    "# Model building- Random Forest\n",
    "clf =RandomForestRegressor()"
   ]
  },
  {
   "cell_type": "code",
   "execution_count": 38,
   "id": "bdbf8d76",
   "metadata": {},
   "outputs": [],
   "source": [
    "# Hyperparameter Tuning\n",
    "parameter = {'n_estimators':[100],'criterion':['squared_error'], 'max_depth':[3,5,7,10], 'min_samples_split':[2,4,6], 'min_samples_leaf':[5,10]}\n",
    "clf_regressor = GridSearchCV(clf,param_grid=parameter,cv=5)"
   ]
  },
  {
   "cell_type": "code",
   "execution_count": 39,
   "id": "a2dba8f2",
   "metadata": {},
   "outputs": [
    {
     "data": {
      "text/plain": [
       "GridSearchCV(cv=5, estimator=RandomForestRegressor(),\n",
       "             param_grid={'criterion': ['squared_error'],\n",
       "                         'max_depth': [3, 5, 7, 10],\n",
       "                         'min_samples_leaf': [5, 10],\n",
       "                         'min_samples_split': [2, 4, 6],\n",
       "                         'n_estimators': [100]})"
      ]
     },
     "execution_count": 39,
     "metadata": {},
     "output_type": "execute_result"
    }
   ],
   "source": [
    "clf_regressor.fit(X_train, Y_train)"
   ]
  },
  {
   "cell_type": "code",
   "execution_count": 40,
   "id": "d76ae193",
   "metadata": {},
   "outputs": [
    {
     "name": "stdout",
     "output_type": "stream",
     "text": [
      "{'criterion': 'squared_error', 'max_depth': 5, 'min_samples_leaf': 10, 'min_samples_split': 4, 'n_estimators': 100} 0.5924197947938824\n"
     ]
    }
   ],
   "source": [
    "# best parameters & highest accuracy\n",
    "\n",
    "print(clf_regressor.best_params_, clf_regressor.best_score_)"
   ]
  },
  {
   "cell_type": "code",
   "execution_count": 41,
   "id": "8773260a",
   "metadata": {},
   "outputs": [],
   "source": [
    "clf_pred_train = clf_regressor.predict(X_train)"
   ]
  },
  {
   "cell_type": "code",
   "execution_count": 42,
   "id": "6883f206",
   "metadata": {
    "scrolled": true
   },
   "outputs": [
    {
     "name": "stdout",
     "output_type": "stream",
     "text": [
      "R squared error :  0.6083254441922892\n",
      "Mean Absolute Error :  739.3465817659644\n"
     ]
    }
   ],
   "source": [
    "# Model Evaluation\n",
    "# R squared error\n",
    "score_5 = metrics.r2_score(Y_train, clf_pred_train)\n",
    "\n",
    "# Mean Absolute Error\n",
    "score_6 = metrics.mean_absolute_error(Y_train, clf_pred_train)\n",
    "\n",
    "print(\"R squared error : \", score_5)\n",
    "print('Mean Absolute Error : ', score_6)"
   ]
  },
  {
   "cell_type": "code",
   "execution_count": 43,
   "id": "9fbaa80a",
   "metadata": {
    "scrolled": true
   },
   "outputs": [
    {
     "data": {
      "text/plain": [
       "0.5546104929120697"
      ]
     },
     "execution_count": 43,
     "metadata": {},
     "output_type": "execute_result"
    }
   ],
   "source": [
    "score_mae_3 = 1-(score_6/1660)\n",
    "score_mae_3"
   ]
  },
  {
   "cell_type": "code",
   "execution_count": 44,
   "id": "aa29f48a",
   "metadata": {
    "scrolled": true
   },
   "outputs": [
    {
     "data": {
      "image/png": "[encoded data removed]",
      "text/plain": [
       "<Figure size 640x480 with 1 Axes>"
      ]
     },
     "metadata": {},
     "output_type": "display_data"
    }
   ],
   "source": [
    "# Visualizing the actual Prices and predicted prices\n",
    "\n",
    "plt.scatter(Y_train, clf_pred_train)\n",
    "plt.xlabel(\"Actual Sales\")\n",
    "plt.ylabel(\"Predicted Sales\")\n",
    "plt.title(\"Actual Sales vs Predicted Sales\")\n",
    "plt.show()"
   ]
  },
  {
   "cell_type": "code",
   "execution_count": 45,
   "id": "c5275f44",
   "metadata": {},
   "outputs": [],
   "source": [
    "clf_pred_test = clf_regressor.predict(X_test)"
   ]
  },
  {
   "cell_type": "code",
   "execution_count": 46,
   "id": "e47f5d16",
   "metadata": {},
   "outputs": [
    {
     "name": "stdout",
     "output_type": "stream",
     "text": [
      "R squared error :  0.6275910571463295\n",
      "Mean Absolute Error :  737.9305381601597\n"
     ]
    }
   ],
   "source": [
    "# Model Evaluation\n",
    "# R squared error\n",
    "score_7 = metrics.r2_score(Y_test, clf_pred_test)\n",
    "\n",
    "# Mean Absolute Error\n",
    "score_8 = metrics.mean_absolute_error(Y_test, clf_pred_test)\n",
    "\n",
    "print(\"R squared error : \", score_7)\n",
    "print('Mean Absolute Error : ', score_8)"
   ]
  },
  {
   "cell_type": "code",
   "execution_count": 47,
   "id": "676bf999",
   "metadata": {},
   "outputs": [
    {
     "data": {
      "text/plain": [
       "0.5554635312288194"
      ]
     },
     "execution_count": 47,
     "metadata": {},
     "output_type": "execute_result"
    }
   ],
   "source": [
    "score_mae_4 = 1-(score_8/1660)\n",
    "score_mae_4"
   ]
  },
  {
   "cell_type": "code",
   "execution_count": 48,
   "id": "9766c11a",
   "metadata": {
    "scrolled": true
   },
   "outputs": [
    {
     "data": {
      "image/png": "[encoded data removed]",
      "text/plain": [
       "<Figure size 640x480 with 1 Axes>"
      ]
     },
     "metadata": {},
     "output_type": "display_data"
    }
   ],
   "source": [
    "# Visualizing the actual sales and predicted sales\n",
    "\n",
    "plt.scatter(Y_test, clf_pred_test)\n",
    "plt.xlabel(\"Actual Sales\")\n",
    "plt.ylabel(\"Predicted Sales\")\n",
    "plt.title(\"Actual Sales vs Predicted Sales\")\n",
    "plt.show()"
   ]
  },
  {
   "cell_type": "code",
   "execution_count": 49,
   "id": "be53c3d0",
   "metadata": {},
   "outputs": [],
   "source": [
    "test_1 = test.drop('Medicine_ID',axis=1)"
   ]
  },
  {
   "cell_type": "code",
   "execution_count": 50,
   "id": "8c11fc85",
   "metadata": {},
   "outputs": [],
   "source": [
    "clf_pred_test_act = clf_regressor.predict(test_1)"
   ]
  },
  {
   "cell_type": "code",
   "execution_count": 51,
   "id": "bad1d0e3",
   "metadata": {},
   "outputs": [],
   "source": [
    "pd.DataFrame(list(zip(list(clf_pred_test_act))),columns=['Counterfeit_Sales']).to_csv('Medicine_Sales_Pred_rf.csv')"
   ]
  },
  {
   "cell_type": "code",
   "execution_count": null,
   "id": "a80d0f17",
   "metadata": {},
   "outputs": [],
   "source": []
  },
  {
   "cell_type": "code",
   "execution_count": null,
   "id": "04bce5c1",
   "metadata": {},
   "outputs": [],
   "source": []
  }
 ],
 "metadata": {
  "kernelspec": {
   "display_name": "Python 3 (ipykernel)",
   "language": "python",
   "name": "python3"
  },
  "language_info": {
   "codemirror_mode": {
    "name": "ipython",
    "version": 3
   },
   "file_extension": ".py",
   "mimetype": "text/x-python",
   "name": "python",
   "nbconvert_exporter": "python",
   "pygments_lexer": "ipython3",
   "version": "3.9.13"
  }
 },
 "nbformat": 4,
 "nbformat_minor": 5
}
