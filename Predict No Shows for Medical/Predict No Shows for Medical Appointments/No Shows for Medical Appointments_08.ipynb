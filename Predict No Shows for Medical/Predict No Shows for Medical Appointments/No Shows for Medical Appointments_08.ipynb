{
 "cells": [
  {
   "cell_type": "markdown",
   "id": "3408741f",
   "metadata": {},
   "source": [
    "### Importing libraries"
   ]
  },
  {
   "cell_type": "code",
   "execution_count": 1,
   "id": "fb057b11",
   "metadata": {},
   "outputs": [],
   "source": [
    "import pandas as pd\n",
    "import numpy as np\n",
    "import seaborn as sns\n",
    "%matplotlib inline\n",
    "from matplotlib import pyplot as plt\n",
    "from sklearn.preprocessing import StandardScaler\n",
    "from sklearn.model_selection import train_test_split\n",
    "from sklearn.ensemble import RandomForestClassifier\n",
    "from sklearn.linear_model import LogisticRegression\n",
    "from sklearn.metrics import roc_auc_score,confusion_matrix, classification_report, accuracy_score\n",
    "from imblearn.over_sampling import RandomOverSampler\n",
    "from sklearn.model_selection import RandomizedSearchCV\n",
    "from sklearn.tree import DecisionTreeClassifier\n",
    "from xgboost import XGBClassifier\n",
    "import warnings\n",
    "warnings.filterwarnings('ignore')"
   ]
  },
  {
   "cell_type": "markdown",
   "id": "f4639adf",
   "metadata": {},
   "source": [
    "### Reading all raw data"
   ]
  },
  {
   "cell_type": "code",
   "execution_count": 2,
   "id": "4ade30c4",
   "metadata": {},
   "outputs": [],
   "source": [
    "train = pd.read_csv(r'C:\\Users\\Archana\\Desktop\\test & train\\project 6\\train.csv')\n",
    "test = pd.read_csv(r'C:\\Users\\Archana\\Desktop\\test & train\\project 6\\test_share.csv')\n",
    "med = pd.read_csv(r'C:\\Users\\Archana\\Desktop\\test & train\\project 6\\medical_history.csv')\n",
    "demo = pd.read_csv(r'C:\\Users\\Archana\\Desktop\\test & train\\project 6\\demographic_details.csv')"
   ]
  },
  {
   "cell_type": "code",
   "execution_count": 3,
   "id": "09c39b5d",
   "metadata": {},
   "outputs": [],
   "source": [
    "pd.set_option('display.max_rows', None)\n",
    "pd.set_option('display.max_columns', None)"
   ]
  },
  {
   "cell_type": "code",
   "execution_count": 4,
   "id": "9befb87f",
   "metadata": {},
   "outputs": [],
   "source": [
    "# Convert PatientId from Float to Integer\n",
    "train['PatientId'] = train['PatientId'].astype('int64')\n",
    "test['PatientId'] = test['PatientId'].astype('int64')\n",
    "med['PatientId'] = med['PatientId'].astype('int64')\n",
    "demo['PatientId'] = demo['PatientId'].astype('int64')"
   ]
  },
  {
   "cell_type": "code",
   "execution_count": 5,
   "id": "ba8de532",
   "metadata": {},
   "outputs": [
    {
     "data": {
      "text/plain": [
       "((99490, 6), (10854, 5), (62299, 5), (62299, 5))"
      ]
     },
     "execution_count": 5,
     "metadata": {},
     "output_type": "execute_result"
    }
   ],
   "source": [
    "train.shape, test.shape, med.shape, demo.shape"
   ]
  },
  {
   "cell_type": "code",
   "execution_count": 6,
   "id": "282a46de",
   "metadata": {
    "scrolled": true
   },
   "outputs": [
    {
     "data": {
      "text/plain": [
       "(         PatientId  Hipertension  Diabetes  Alcoholism  Handcap\n",
       " 0   29872499824296             1         0           0        0\n",
       " 1  558997776694438             0         0           0        0\n",
       " 2    4262962299951             0         0           0        0\n",
       " 3     867951213174             0         0           0        0\n",
       " 4    8841186448183             1         1           0        0,\n",
       "          PatientId Gender  Age      Neighbourhood  Scholarship\n",
       " 0   29872499824296      F   62    JARDIM DA PENHA            0\n",
       " 1  558997776694438      M   56    JARDIM DA PENHA            0\n",
       " 2    4262962299951      F   62      MATA DA PRAIA            0\n",
       " 3     867951213174      F    8  PONTAL DE CAMBURI            0\n",
       " 4    8841186448183      F   56    JARDIM DA PENHA            0)"
      ]
     },
     "execution_count": 6,
     "metadata": {},
     "output_type": "execute_result"
    }
   ],
   "source": [
    "med.head(), demo.head()"
   ]
  },
  {
   "cell_type": "code",
   "execution_count": 7,
   "id": "71a10bfd",
   "metadata": {},
   "outputs": [],
   "source": [
    "#merging medical history & demographic details \n",
    "med_demo = pd.merge(med, demo, how ='outer', on ='PatientId')"
   ]
  },
  {
   "cell_type": "code",
   "execution_count": 8,
   "id": "b10f13a0",
   "metadata": {
    "scrolled": true
   },
   "outputs": [
    {
     "data": {
      "text/html": [
       "<div>\n",
       "<style scoped>\n",
       "    .dataframe tbody tr th:only-of-type {\n",
       "        vertical-align: middle;\n",
       "    }\n",
       "\n",
       "    .dataframe tbody tr th {\n",
       "        vertical-align: top;\n",
       "    }\n",
       "\n",
       "    .dataframe thead th {\n",
       "        text-align: right;\n",
       "    }\n",
       "</style>\n",
       "<table border=\"1\" class=\"dataframe\">\n",
       "  <thead>\n",
       "    <tr style=\"text-align: right;\">\n",
       "      <th></th>\n",
       "      <th>PatientId</th>\n",
       "      <th>Hipertension</th>\n",
       "      <th>Diabetes</th>\n",
       "      <th>Alcoholism</th>\n",
       "      <th>Handcap</th>\n",
       "      <th>Gender</th>\n",
       "      <th>Age</th>\n",
       "      <th>Neighbourhood</th>\n",
       "      <th>Scholarship</th>\n",
       "    </tr>\n",
       "  </thead>\n",
       "  <tbody>\n",
       "    <tr>\n",
       "      <th>0</th>\n",
       "      <td>29872499824296</td>\n",
       "      <td>1</td>\n",
       "      <td>0</td>\n",
       "      <td>0</td>\n",
       "      <td>0</td>\n",
       "      <td>F</td>\n",
       "      <td>62</td>\n",
       "      <td>JARDIM DA PENHA</td>\n",
       "      <td>0</td>\n",
       "    </tr>\n",
       "    <tr>\n",
       "      <th>1</th>\n",
       "      <td>558997776694438</td>\n",
       "      <td>0</td>\n",
       "      <td>0</td>\n",
       "      <td>0</td>\n",
       "      <td>0</td>\n",
       "      <td>M</td>\n",
       "      <td>56</td>\n",
       "      <td>JARDIM DA PENHA</td>\n",
       "      <td>0</td>\n",
       "    </tr>\n",
       "    <tr>\n",
       "      <th>2</th>\n",
       "      <td>4262962299951</td>\n",
       "      <td>0</td>\n",
       "      <td>0</td>\n",
       "      <td>0</td>\n",
       "      <td>0</td>\n",
       "      <td>F</td>\n",
       "      <td>62</td>\n",
       "      <td>MATA DA PRAIA</td>\n",
       "      <td>0</td>\n",
       "    </tr>\n",
       "    <tr>\n",
       "      <th>3</th>\n",
       "      <td>867951213174</td>\n",
       "      <td>0</td>\n",
       "      <td>0</td>\n",
       "      <td>0</td>\n",
       "      <td>0</td>\n",
       "      <td>F</td>\n",
       "      <td>8</td>\n",
       "      <td>PONTAL DE CAMBURI</td>\n",
       "      <td>0</td>\n",
       "    </tr>\n",
       "    <tr>\n",
       "      <th>4</th>\n",
       "      <td>8841186448183</td>\n",
       "      <td>1</td>\n",
       "      <td>1</td>\n",
       "      <td>0</td>\n",
       "      <td>0</td>\n",
       "      <td>F</td>\n",
       "      <td>56</td>\n",
       "      <td>JARDIM DA PENHA</td>\n",
       "      <td>0</td>\n",
       "    </tr>\n",
       "  </tbody>\n",
       "</table>\n",
       "</div>"
      ],
      "text/plain": [
       "         PatientId  Hipertension  Diabetes  Alcoholism  Handcap Gender  Age  \\\n",
       "0   29872499824296             1         0           0        0      F   62   \n",
       "1  558997776694438             0         0           0        0      M   56   \n",
       "2    4262962299951             0         0           0        0      F   62   \n",
       "3     867951213174             0         0           0        0      F    8   \n",
       "4    8841186448183             1         1           0        0      F   56   \n",
       "\n",
       "       Neighbourhood  Scholarship  \n",
       "0    JARDIM DA PENHA            0  \n",
       "1    JARDIM DA PENHA            0  \n",
       "2      MATA DA PRAIA            0  \n",
       "3  PONTAL DE CAMBURI            0  \n",
       "4    JARDIM DA PENHA            0  "
      ]
     },
     "execution_count": 8,
     "metadata": {},
     "output_type": "execute_result"
    }
   ],
   "source": [
    "med_demo.head()"
   ]
  },
  {
   "cell_type": "code",
   "execution_count": 9,
   "id": "e2298505",
   "metadata": {},
   "outputs": [
    {
     "data": {
      "text/plain": [
       "(62299, 9)"
      ]
     },
     "execution_count": 9,
     "metadata": {},
     "output_type": "execute_result"
    }
   ],
   "source": [
    "med_demo.shape"
   ]
  },
  {
   "cell_type": "code",
   "execution_count": 10,
   "id": "acd7d1d2",
   "metadata": {},
   "outputs": [],
   "source": [
    "#merging above created data with train & test dataset\n",
    "train_md = pd.merge(train, med_demo, how ='inner', on ='PatientId')\n",
    "test_md = pd.merge(test, med_demo, how ='inner', on ='PatientId')"
   ]
  },
  {
   "cell_type": "code",
   "execution_count": 11,
   "id": "acd55748",
   "metadata": {},
   "outputs": [
    {
     "data": {
      "text/plain": [
       "((99490, 14), (10854, 13))"
      ]
     },
     "execution_count": 11,
     "metadata": {},
     "output_type": "execute_result"
    }
   ],
   "source": [
    "train_md.shape, test_md.shape"
   ]
  },
  {
   "cell_type": "code",
   "execution_count": 12,
   "id": "04993759",
   "metadata": {},
   "outputs": [
    {
     "data": {
      "text/plain": [
       "(PatientId         0\n",
       " AppointmentID     0\n",
       " ScheduledDay      0\n",
       " AppointmentDay    0\n",
       " SMS_received      0\n",
       " No-show           0\n",
       " Hipertension      0\n",
       " Diabetes          0\n",
       " Alcoholism        0\n",
       " Handcap           0\n",
       " Gender            0\n",
       " Age               0\n",
       " Neighbourhood     0\n",
       " Scholarship       0\n",
       " dtype: int64,\n",
       " PatientId         0\n",
       " AppointmentID     0\n",
       " ScheduledDay      0\n",
       " AppointmentDay    0\n",
       " SMS_received      0\n",
       " Hipertension      0\n",
       " Diabetes          0\n",
       " Alcoholism        0\n",
       " Handcap           0\n",
       " Gender            0\n",
       " Age               0\n",
       " Neighbourhood     0\n",
       " Scholarship       0\n",
       " dtype: int64)"
      ]
     },
     "execution_count": 12,
     "metadata": {},
     "output_type": "execute_result"
    }
   ],
   "source": [
    "train_md.isnull().sum(), test_md.isnull().sum()"
   ]
  },
  {
   "cell_type": "code",
   "execution_count": 13,
   "id": "84f35e73",
   "metadata": {},
   "outputs": [
    {
     "name": "stdout",
     "output_type": "stream",
     "text": [
      "<class 'pandas.core.frame.DataFrame'>\n",
      "Int64Index: 99490 entries, 0 to 99489\n",
      "Data columns (total 14 columns):\n",
      " #   Column          Non-Null Count  Dtype \n",
      "---  ------          --------------  ----- \n",
      " 0   PatientId       99490 non-null  int64 \n",
      " 1   AppointmentID   99490 non-null  int64 \n",
      " 2   ScheduledDay    99490 non-null  object\n",
      " 3   AppointmentDay  99490 non-null  object\n",
      " 4   SMS_received    99490 non-null  int64 \n",
      " 5   No-show         99490 non-null  object\n",
      " 6   Hipertension    99490 non-null  int64 \n",
      " 7   Diabetes        99490 non-null  int64 \n",
      " 8   Alcoholism      99490 non-null  int64 \n",
      " 9   Handcap         99490 non-null  int64 \n",
      " 10  Gender          99490 non-null  object\n",
      " 11  Age             99490 non-null  int64 \n",
      " 12  Neighbourhood   99490 non-null  object\n",
      " 13  Scholarship     99490 non-null  int64 \n",
      "dtypes: int64(9), object(5)\n",
      "memory usage: 11.4+ MB\n",
      "<class 'pandas.core.frame.DataFrame'>\n",
      "Int64Index: 10854 entries, 0 to 10853\n",
      "Data columns (total 13 columns):\n",
      " #   Column          Non-Null Count  Dtype \n",
      "---  ------          --------------  ----- \n",
      " 0   PatientId       10854 non-null  int64 \n",
      " 1   AppointmentID   10854 non-null  int64 \n",
      " 2   ScheduledDay    10854 non-null  object\n",
      " 3   AppointmentDay  10854 non-null  object\n",
      " 4   SMS_received    10854 non-null  int64 \n",
      " 5   Hipertension    10854 non-null  int64 \n",
      " 6   Diabetes        10854 non-null  int64 \n",
      " 7   Alcoholism      10854 non-null  int64 \n",
      " 8   Handcap         10854 non-null  int64 \n",
      " 9   Gender          10854 non-null  object\n",
      " 10  Age             10854 non-null  int64 \n",
      " 11  Neighbourhood   10854 non-null  object\n",
      " 12  Scholarship     10854 non-null  int64 \n",
      "dtypes: int64(9), object(4)\n",
      "memory usage: 1.2+ MB\n"
     ]
    },
    {
     "data": {
      "text/plain": [
       "(None, None)"
      ]
     },
     "execution_count": 13,
     "metadata": {},
     "output_type": "execute_result"
    }
   ],
   "source": [
    "train_md.info(), test_md.info()"
   ]
  },
  {
   "cell_type": "code",
   "execution_count": 14,
   "id": "4d9431b2",
   "metadata": {},
   "outputs": [],
   "source": [
    "# rename the columns\n",
    "train_md = train_md.rename(columns={'Hipertension': 'Hypertension', 'Handcap': 'Handicap', 'No-show': 'No_Show'})\n",
    "test_md = test_md.rename(columns={'Hipertension': 'Hypertension', 'Handcap': 'Handicap'})"
   ]
  },
  {
   "cell_type": "code",
   "execution_count": 15,
   "id": "2e41c7a7",
   "metadata": {},
   "outputs": [],
   "source": [
    "# Adding new columns in both dataframe\n",
    "train_md['Data'] = 'train'\n",
    "test_md['Data'] = 'test'"
   ]
  },
  {
   "cell_type": "code",
   "execution_count": 16,
   "id": "6ab7ec27",
   "metadata": {},
   "outputs": [],
   "source": [
    "# moving No_Show column to end\n",
    "column_to_move = train_md.pop(\"No_Show\")\n",
    "\n",
    "# insert column with insert(location, column_name, column_value)\n",
    "train_md.insert(14, \"No_Show\", column_to_move)\n",
    "\n",
    "# different method\n",
    "#df1 = df.pop('No_Show') # remove column No_Show and store it in df1\n",
    "#df['No_Show']=df1 # add No_Show series as a 'new' column."
   ]
  },
  {
   "cell_type": "code",
   "execution_count": 17,
   "id": "808ad70b",
   "metadata": {},
   "outputs": [
    {
     "data": {
      "text/plain": [
       "(Index(['PatientId', 'AppointmentID', 'ScheduledDay', 'AppointmentDay',\n",
       "        'SMS_received', 'Hypertension', 'Diabetes', 'Alcoholism', 'Handicap',\n",
       "        'Gender', 'Age', 'Neighbourhood', 'Scholarship', 'Data', 'No_Show'],\n",
       "       dtype='object'),\n",
       " Index(['PatientId', 'AppointmentID', 'ScheduledDay', 'AppointmentDay',\n",
       "        'SMS_received', 'Hypertension', 'Diabetes', 'Alcoholism', 'Handicap',\n",
       "        'Gender', 'Age', 'Neighbourhood', 'Scholarship', 'Data'],\n",
       "       dtype='object'))"
      ]
     },
     "execution_count": 17,
     "metadata": {},
     "output_type": "execute_result"
    }
   ],
   "source": [
    "train_md.columns, test_md.columns"
   ]
  },
  {
   "cell_type": "code",
   "execution_count": 18,
   "id": "fb7b2a4f",
   "metadata": {},
   "outputs": [],
   "source": [
    "#To make both dataframe in same order\n",
    "#test_md = test_md[train_md.columns]"
   ]
  },
  {
   "cell_type": "code",
   "execution_count": 19,
   "id": "c573516d",
   "metadata": {
    "scrolled": true
   },
   "outputs": [
    {
     "data": {
      "text/html": [
       "<div>\n",
       "<style scoped>\n",
       "    .dataframe tbody tr th:only-of-type {\n",
       "        vertical-align: middle;\n",
       "    }\n",
       "\n",
       "    .dataframe tbody tr th {\n",
       "        vertical-align: top;\n",
       "    }\n",
       "\n",
       "    .dataframe thead th {\n",
       "        text-align: right;\n",
       "    }\n",
       "</style>\n",
       "<table border=\"1\" class=\"dataframe\">\n",
       "  <thead>\n",
       "    <tr style=\"text-align: right;\">\n",
       "      <th></th>\n",
       "      <th>PatientId</th>\n",
       "      <th>AppointmentID</th>\n",
       "      <th>ScheduledDay</th>\n",
       "      <th>AppointmentDay</th>\n",
       "      <th>SMS_received</th>\n",
       "      <th>Hypertension</th>\n",
       "      <th>Diabetes</th>\n",
       "      <th>Alcoholism</th>\n",
       "      <th>Handicap</th>\n",
       "      <th>Gender</th>\n",
       "      <th>Age</th>\n",
       "      <th>Neighbourhood</th>\n",
       "      <th>Scholarship</th>\n",
       "      <th>Data</th>\n",
       "      <th>No_Show</th>\n",
       "    </tr>\n",
       "  </thead>\n",
       "  <tbody>\n",
       "    <tr>\n",
       "      <th>0</th>\n",
       "      <td>29872499824296</td>\n",
       "      <td>5642903</td>\n",
       "      <td>2016-04-29T18:38:08Z</td>\n",
       "      <td>2016-04-29T00:00:00Z</td>\n",
       "      <td>0</td>\n",
       "      <td>1</td>\n",
       "      <td>0</td>\n",
       "      <td>0</td>\n",
       "      <td>0</td>\n",
       "      <td>F</td>\n",
       "      <td>62</td>\n",
       "      <td>JARDIM DA PENHA</td>\n",
       "      <td>0</td>\n",
       "      <td>train</td>\n",
       "      <td>No</td>\n",
       "    </tr>\n",
       "    <tr>\n",
       "      <th>1</th>\n",
       "      <td>29872499824296</td>\n",
       "      <td>5639907</td>\n",
       "      <td>2016-04-29T09:47:47Z</td>\n",
       "      <td>2016-04-29T00:00:00Z</td>\n",
       "      <td>0</td>\n",
       "      <td>1</td>\n",
       "      <td>0</td>\n",
       "      <td>0</td>\n",
       "      <td>0</td>\n",
       "      <td>F</td>\n",
       "      <td>62</td>\n",
       "      <td>JARDIM DA PENHA</td>\n",
       "      <td>0</td>\n",
       "      <td>train</td>\n",
       "      <td>No</td>\n",
       "    </tr>\n",
       "    <tr>\n",
       "      <th>2</th>\n",
       "      <td>558997776694438</td>\n",
       "      <td>5642503</td>\n",
       "      <td>2016-04-29T16:08:27Z</td>\n",
       "      <td>2016-04-29T00:00:00Z</td>\n",
       "      <td>0</td>\n",
       "      <td>0</td>\n",
       "      <td>0</td>\n",
       "      <td>0</td>\n",
       "      <td>0</td>\n",
       "      <td>M</td>\n",
       "      <td>56</td>\n",
       "      <td>JARDIM DA PENHA</td>\n",
       "      <td>0</td>\n",
       "      <td>train</td>\n",
       "      <td>No</td>\n",
       "    </tr>\n",
       "    <tr>\n",
       "      <th>3</th>\n",
       "      <td>558997776694438</td>\n",
       "      <td>5642211</td>\n",
       "      <td>2016-04-29T15:20:47Z</td>\n",
       "      <td>2016-04-29T00:00:00Z</td>\n",
       "      <td>0</td>\n",
       "      <td>0</td>\n",
       "      <td>0</td>\n",
       "      <td>0</td>\n",
       "      <td>0</td>\n",
       "      <td>M</td>\n",
       "      <td>56</td>\n",
       "      <td>JARDIM DA PENHA</td>\n",
       "      <td>0</td>\n",
       "      <td>train</td>\n",
       "      <td>No</td>\n",
       "    </tr>\n",
       "    <tr>\n",
       "      <th>4</th>\n",
       "      <td>867951213174</td>\n",
       "      <td>5642828</td>\n",
       "      <td>2016-04-29T17:29:31Z</td>\n",
       "      <td>2016-04-29T00:00:00Z</td>\n",
       "      <td>0</td>\n",
       "      <td>0</td>\n",
       "      <td>0</td>\n",
       "      <td>0</td>\n",
       "      <td>0</td>\n",
       "      <td>F</td>\n",
       "      <td>8</td>\n",
       "      <td>PONTAL DE CAMBURI</td>\n",
       "      <td>0</td>\n",
       "      <td>train</td>\n",
       "      <td>No</td>\n",
       "    </tr>\n",
       "  </tbody>\n",
       "</table>\n",
       "</div>"
      ],
      "text/plain": [
       "         PatientId  AppointmentID          ScheduledDay        AppointmentDay  \\\n",
       "0   29872499824296        5642903  2016-04-29T18:38:08Z  2016-04-29T00:00:00Z   \n",
       "1   29872499824296        5639907  2016-04-29T09:47:47Z  2016-04-29T00:00:00Z   \n",
       "2  558997776694438        5642503  2016-04-29T16:08:27Z  2016-04-29T00:00:00Z   \n",
       "3  558997776694438        5642211  2016-04-29T15:20:47Z  2016-04-29T00:00:00Z   \n",
       "4     867951213174        5642828  2016-04-29T17:29:31Z  2016-04-29T00:00:00Z   \n",
       "\n",
       "   SMS_received  Hypertension  Diabetes  Alcoholism  Handicap Gender  Age  \\\n",
       "0             0             1         0           0         0      F   62   \n",
       "1             0             1         0           0         0      F   62   \n",
       "2             0             0         0           0         0      M   56   \n",
       "3             0             0         0           0         0      M   56   \n",
       "4             0             0         0           0         0      F    8   \n",
       "\n",
       "       Neighbourhood  Scholarship   Data No_Show  \n",
       "0    JARDIM DA PENHA            0  train      No  \n",
       "1    JARDIM DA PENHA            0  train      No  \n",
       "2    JARDIM DA PENHA            0  train      No  \n",
       "3    JARDIM DA PENHA            0  train      No  \n",
       "4  PONTAL DE CAMBURI            0  train      No  "
      ]
     },
     "execution_count": 19,
     "metadata": {},
     "output_type": "execute_result"
    }
   ],
   "source": [
    "train_md.head()"
   ]
  },
  {
   "cell_type": "code",
   "execution_count": 20,
   "id": "08fa1db8",
   "metadata": {},
   "outputs": [
    {
     "data": {
      "text/html": [
       "<div>\n",
       "<style scoped>\n",
       "    .dataframe tbody tr th:only-of-type {\n",
       "        vertical-align: middle;\n",
       "    }\n",
       "\n",
       "    .dataframe tbody tr th {\n",
       "        vertical-align: top;\n",
       "    }\n",
       "\n",
       "    .dataframe thead th {\n",
       "        text-align: right;\n",
       "    }\n",
       "</style>\n",
       "<table border=\"1\" class=\"dataframe\">\n",
       "  <thead>\n",
       "    <tr style=\"text-align: right;\">\n",
       "      <th></th>\n",
       "      <th>PatientId</th>\n",
       "      <th>AppointmentID</th>\n",
       "      <th>ScheduledDay</th>\n",
       "      <th>AppointmentDay</th>\n",
       "      <th>SMS_received</th>\n",
       "      <th>Hypertension</th>\n",
       "      <th>Diabetes</th>\n",
       "      <th>Alcoholism</th>\n",
       "      <th>Handicap</th>\n",
       "      <th>Gender</th>\n",
       "      <th>Age</th>\n",
       "      <th>Neighbourhood</th>\n",
       "      <th>Scholarship</th>\n",
       "      <th>Data</th>\n",
       "    </tr>\n",
       "  </thead>\n",
       "  <tbody>\n",
       "    <tr>\n",
       "      <th>0</th>\n",
       "      <td>7223289184215</td>\n",
       "      <td>5640433</td>\n",
       "      <td>2016-04-29T10:43:14Z</td>\n",
       "      <td>2016-04-29T00:00:00Z</td>\n",
       "      <td>0</td>\n",
       "      <td>0</td>\n",
       "      <td>0</td>\n",
       "      <td>0</td>\n",
       "      <td>0</td>\n",
       "      <td>F</td>\n",
       "      <td>46</td>\n",
       "      <td>DA PENHA</td>\n",
       "      <td>0</td>\n",
       "      <td>test</td>\n",
       "    </tr>\n",
       "    <tr>\n",
       "      <th>1</th>\n",
       "      <td>863229818887631</td>\n",
       "      <td>5616091</td>\n",
       "      <td>2016-04-25T13:29:16Z</td>\n",
       "      <td>2016-04-29T00:00:00Z</td>\n",
       "      <td>1</td>\n",
       "      <td>0</td>\n",
       "      <td>0</td>\n",
       "      <td>0</td>\n",
       "      <td>0</td>\n",
       "      <td>M</td>\n",
       "      <td>13</td>\n",
       "      <td>CONQUISTA</td>\n",
       "      <td>0</td>\n",
       "      <td>test</td>\n",
       "    </tr>\n",
       "    <tr>\n",
       "      <th>2</th>\n",
       "      <td>443858731994526</td>\n",
       "      <td>5637909</td>\n",
       "      <td>2016-04-29T07:30:31Z</td>\n",
       "      <td>2016-04-29T00:00:00Z</td>\n",
       "      <td>0</td>\n",
       "      <td>0</td>\n",
       "      <td>0</td>\n",
       "      <td>0</td>\n",
       "      <td>0</td>\n",
       "      <td>M</td>\n",
       "      <td>6</td>\n",
       "      <td>CONQUISTA</td>\n",
       "      <td>0</td>\n",
       "      <td>test</td>\n",
       "    </tr>\n",
       "    <tr>\n",
       "      <th>3</th>\n",
       "      <td>443858731994526</td>\n",
       "      <td>5676948</td>\n",
       "      <td>2016-05-09T17:01:17Z</td>\n",
       "      <td>2016-05-10T00:00:00Z</td>\n",
       "      <td>0</td>\n",
       "      <td>0</td>\n",
       "      <td>0</td>\n",
       "      <td>0</td>\n",
       "      <td>0</td>\n",
       "      <td>M</td>\n",
       "      <td>6</td>\n",
       "      <td>CONQUISTA</td>\n",
       "      <td>0</td>\n",
       "      <td>test</td>\n",
       "    </tr>\n",
       "    <tr>\n",
       "      <th>4</th>\n",
       "      <td>41799315536436</td>\n",
       "      <td>5638018</td>\n",
       "      <td>2016-04-29T07:37:45Z</td>\n",
       "      <td>2016-04-29T00:00:00Z</td>\n",
       "      <td>0</td>\n",
       "      <td>0</td>\n",
       "      <td>0</td>\n",
       "      <td>0</td>\n",
       "      <td>0</td>\n",
       "      <td>M</td>\n",
       "      <td>2</td>\n",
       "      <td>NOVA PALESTINA</td>\n",
       "      <td>0</td>\n",
       "      <td>test</td>\n",
       "    </tr>\n",
       "  </tbody>\n",
       "</table>\n",
       "</div>"
      ],
      "text/plain": [
       "         PatientId  AppointmentID          ScheduledDay        AppointmentDay  \\\n",
       "0    7223289184215        5640433  2016-04-29T10:43:14Z  2016-04-29T00:00:00Z   \n",
       "1  863229818887631        5616091  2016-04-25T13:29:16Z  2016-04-29T00:00:00Z   \n",
       "2  443858731994526        5637909  2016-04-29T07:30:31Z  2016-04-29T00:00:00Z   \n",
       "3  443858731994526        5676948  2016-05-09T17:01:17Z  2016-05-10T00:00:00Z   \n",
       "4   41799315536436        5638018  2016-04-29T07:37:45Z  2016-04-29T00:00:00Z   \n",
       "\n",
       "   SMS_received  Hypertension  Diabetes  Alcoholism  Handicap Gender  Age  \\\n",
       "0             0             0         0           0         0      F   46   \n",
       "1             1             0         0           0         0      M   13   \n",
       "2             0             0         0           0         0      M    6   \n",
       "3             0             0         0           0         0      M    6   \n",
       "4             0             0         0           0         0      M    2   \n",
       "\n",
       "    Neighbourhood  Scholarship  Data  \n",
       "0        DA PENHA            0  test  \n",
       "1       CONQUISTA            0  test  \n",
       "2       CONQUISTA            0  test  \n",
       "3       CONQUISTA            0  test  \n",
       "4  NOVA PALESTINA            0  test  "
      ]
     },
     "execution_count": 20,
     "metadata": {},
     "output_type": "execute_result"
    }
   ],
   "source": [
    "test_md.head()"
   ]
  },
  {
   "cell_type": "code",
   "execution_count": 21,
   "id": "d815e2b8",
   "metadata": {},
   "outputs": [],
   "source": [
    "# Concat train and test data-\n",
    "df = pd.concat([train_md,test_md], axis=0)"
   ]
  },
  {
   "cell_type": "code",
   "execution_count": 22,
   "id": "a86640e5",
   "metadata": {},
   "outputs": [
    {
     "data": {
      "text/html": [
       "<div>\n",
       "<style scoped>\n",
       "    .dataframe tbody tr th:only-of-type {\n",
       "        vertical-align: middle;\n",
       "    }\n",
       "\n",
       "    .dataframe tbody tr th {\n",
       "        vertical-align: top;\n",
       "    }\n",
       "\n",
       "    .dataframe thead th {\n",
       "        text-align: right;\n",
       "    }\n",
       "</style>\n",
       "<table border=\"1\" class=\"dataframe\">\n",
       "  <thead>\n",
       "    <tr style=\"text-align: right;\">\n",
       "      <th></th>\n",
       "      <th>PatientId</th>\n",
       "      <th>AppointmentID</th>\n",
       "      <th>ScheduledDay</th>\n",
       "      <th>AppointmentDay</th>\n",
       "      <th>SMS_received</th>\n",
       "      <th>Hypertension</th>\n",
       "      <th>Diabetes</th>\n",
       "      <th>Alcoholism</th>\n",
       "      <th>Handicap</th>\n",
       "      <th>Gender</th>\n",
       "      <th>Age</th>\n",
       "      <th>Neighbourhood</th>\n",
       "      <th>Scholarship</th>\n",
       "      <th>Data</th>\n",
       "      <th>No_Show</th>\n",
       "    </tr>\n",
       "  </thead>\n",
       "  <tbody>\n",
       "    <tr>\n",
       "      <th>0</th>\n",
       "      <td>29872499824296</td>\n",
       "      <td>5642903</td>\n",
       "      <td>2016-04-29T18:38:08Z</td>\n",
       "      <td>2016-04-29T00:00:00Z</td>\n",
       "      <td>0</td>\n",
       "      <td>1</td>\n",
       "      <td>0</td>\n",
       "      <td>0</td>\n",
       "      <td>0</td>\n",
       "      <td>F</td>\n",
       "      <td>62</td>\n",
       "      <td>JARDIM DA PENHA</td>\n",
       "      <td>0</td>\n",
       "      <td>train</td>\n",
       "      <td>No</td>\n",
       "    </tr>\n",
       "    <tr>\n",
       "      <th>1</th>\n",
       "      <td>29872499824296</td>\n",
       "      <td>5639907</td>\n",
       "      <td>2016-04-29T09:47:47Z</td>\n",
       "      <td>2016-04-29T00:00:00Z</td>\n",
       "      <td>0</td>\n",
       "      <td>1</td>\n",
       "      <td>0</td>\n",
       "      <td>0</td>\n",
       "      <td>0</td>\n",
       "      <td>F</td>\n",
       "      <td>62</td>\n",
       "      <td>JARDIM DA PENHA</td>\n",
       "      <td>0</td>\n",
       "      <td>train</td>\n",
       "      <td>No</td>\n",
       "    </tr>\n",
       "    <tr>\n",
       "      <th>2</th>\n",
       "      <td>558997776694438</td>\n",
       "      <td>5642503</td>\n",
       "      <td>2016-04-29T16:08:27Z</td>\n",
       "      <td>2016-04-29T00:00:00Z</td>\n",
       "      <td>0</td>\n",
       "      <td>0</td>\n",
       "      <td>0</td>\n",
       "      <td>0</td>\n",
       "      <td>0</td>\n",
       "      <td>M</td>\n",
       "      <td>56</td>\n",
       "      <td>JARDIM DA PENHA</td>\n",
       "      <td>0</td>\n",
       "      <td>train</td>\n",
       "      <td>No</td>\n",
       "    </tr>\n",
       "    <tr>\n",
       "      <th>3</th>\n",
       "      <td>558997776694438</td>\n",
       "      <td>5642211</td>\n",
       "      <td>2016-04-29T15:20:47Z</td>\n",
       "      <td>2016-04-29T00:00:00Z</td>\n",
       "      <td>0</td>\n",
       "      <td>0</td>\n",
       "      <td>0</td>\n",
       "      <td>0</td>\n",
       "      <td>0</td>\n",
       "      <td>M</td>\n",
       "      <td>56</td>\n",
       "      <td>JARDIM DA PENHA</td>\n",
       "      <td>0</td>\n",
       "      <td>train</td>\n",
       "      <td>No</td>\n",
       "    </tr>\n",
       "    <tr>\n",
       "      <th>4</th>\n",
       "      <td>867951213174</td>\n",
       "      <td>5642828</td>\n",
       "      <td>2016-04-29T17:29:31Z</td>\n",
       "      <td>2016-04-29T00:00:00Z</td>\n",
       "      <td>0</td>\n",
       "      <td>0</td>\n",
       "      <td>0</td>\n",
       "      <td>0</td>\n",
       "      <td>0</td>\n",
       "      <td>F</td>\n",
       "      <td>8</td>\n",
       "      <td>PONTAL DE CAMBURI</td>\n",
       "      <td>0</td>\n",
       "      <td>train</td>\n",
       "      <td>No</td>\n",
       "    </tr>\n",
       "  </tbody>\n",
       "</table>\n",
       "</div>"
      ],
      "text/plain": [
       "         PatientId  AppointmentID          ScheduledDay        AppointmentDay  \\\n",
       "0   29872499824296        5642903  2016-04-29T18:38:08Z  2016-04-29T00:00:00Z   \n",
       "1   29872499824296        5639907  2016-04-29T09:47:47Z  2016-04-29T00:00:00Z   \n",
       "2  558997776694438        5642503  2016-04-29T16:08:27Z  2016-04-29T00:00:00Z   \n",
       "3  558997776694438        5642211  2016-04-29T15:20:47Z  2016-04-29T00:00:00Z   \n",
       "4     867951213174        5642828  2016-04-29T17:29:31Z  2016-04-29T00:00:00Z   \n",
       "\n",
       "   SMS_received  Hypertension  Diabetes  Alcoholism  Handicap Gender  Age  \\\n",
       "0             0             1         0           0         0      F   62   \n",
       "1             0             1         0           0         0      F   62   \n",
       "2             0             0         0           0         0      M   56   \n",
       "3             0             0         0           0         0      M   56   \n",
       "4             0             0         0           0         0      F    8   \n",
       "\n",
       "       Neighbourhood  Scholarship   Data No_Show  \n",
       "0    JARDIM DA PENHA            0  train      No  \n",
       "1    JARDIM DA PENHA            0  train      No  \n",
       "2    JARDIM DA PENHA            0  train      No  \n",
       "3    JARDIM DA PENHA            0  train      No  \n",
       "4  PONTAL DE CAMBURI            0  train      No  "
      ]
     },
     "execution_count": 22,
     "metadata": {},
     "output_type": "execute_result"
    }
   ],
   "source": [
    "df.head()"
   ]
  },
  {
   "cell_type": "code",
   "execution_count": 23,
   "id": "d7f0637a",
   "metadata": {},
   "outputs": [
    {
     "data": {
      "text/plain": [
       "PatientId             0\n",
       "AppointmentID         0\n",
       "ScheduledDay          0\n",
       "AppointmentDay        0\n",
       "SMS_received          0\n",
       "Hypertension          0\n",
       "Diabetes              0\n",
       "Alcoholism            0\n",
       "Handicap              0\n",
       "Gender                0\n",
       "Age                   0\n",
       "Neighbourhood         0\n",
       "Scholarship           0\n",
       "Data                  0\n",
       "No_Show           10854\n",
       "dtype: int64"
      ]
     },
     "execution_count": 23,
     "metadata": {},
     "output_type": "execute_result"
    }
   ],
   "source": [
    "df.isnull().sum()"
   ]
  },
  {
   "cell_type": "code",
   "execution_count": 24,
   "id": "34d1baa4",
   "metadata": {
    "scrolled": true
   },
   "outputs": [],
   "source": [
    "# converting object type to datetime\n",
    "df['ScheduledDay'] = pd.to_datetime(df['ScheduledDay']).dt.date.astype('datetime64[ns]')\n",
    "\n",
    "df['AppointmentDay'] = pd.to_datetime(df['AppointmentDay']).dt.date.astype('datetime64[ns]')"
   ]
  },
  {
   "cell_type": "code",
   "execution_count": 25,
   "id": "2f551ba8",
   "metadata": {},
   "outputs": [
    {
     "name": "stdout",
     "output_type": "stream",
     "text": [
      "<class 'pandas.core.frame.DataFrame'>\n",
      "Int64Index: 110344 entries, 0 to 10853\n",
      "Data columns (total 15 columns):\n",
      " #   Column          Non-Null Count   Dtype         \n",
      "---  ------          --------------   -----         \n",
      " 0   PatientId       110344 non-null  int64         \n",
      " 1   AppointmentID   110344 non-null  int64         \n",
      " 2   ScheduledDay    110344 non-null  datetime64[ns]\n",
      " 3   AppointmentDay  110344 non-null  datetime64[ns]\n",
      " 4   SMS_received    110344 non-null  int64         \n",
      " 5   Hypertension    110344 non-null  int64         \n",
      " 6   Diabetes        110344 non-null  int64         \n",
      " 7   Alcoholism      110344 non-null  int64         \n",
      " 8   Handicap        110344 non-null  int64         \n",
      " 9   Gender          110344 non-null  object        \n",
      " 10  Age             110344 non-null  int64         \n",
      " 11  Neighbourhood   110344 non-null  object        \n",
      " 12  Scholarship     110344 non-null  int64         \n",
      " 13  Data            110344 non-null  object        \n",
      " 14  No_Show         99490 non-null   object        \n",
      "dtypes: datetime64[ns](2), int64(9), object(4)\n",
      "memory usage: 13.5+ MB\n"
     ]
    }
   ],
   "source": [
    "df.info()"
   ]
  },
  {
   "cell_type": "markdown",
   "id": "69892974",
   "metadata": {},
   "source": [
    "### No_Show"
   ]
  },
  {
   "cell_type": "code",
   "execution_count": 26,
   "id": "7c8da14d",
   "metadata": {},
   "outputs": [
    {
     "data": {
      "text/plain": [
       "array([0, 1])"
      ]
     },
     "execution_count": 26,
     "metadata": {},
     "output_type": "execute_result"
    }
   ],
   "source": [
    "df['No_Show'] = np.where(df['No_Show'] == 'Yes', 1, 0)\n",
    "df['No_Show'].unique()"
   ]
  },
  {
   "cell_type": "markdown",
   "id": "3cda3d31",
   "metadata": {},
   "source": [
    "### Handicap"
   ]
  },
  {
   "cell_type": "code",
   "execution_count": 27,
   "id": "ce308f6c",
   "metadata": {},
   "outputs": [
    {
     "data": {
      "text/plain": [
       "array([0, 1, 2, 3, 4], dtype=int64)"
      ]
     },
     "execution_count": 27,
     "metadata": {},
     "output_type": "execute_result"
    }
   ],
   "source": [
    "df['Handicap'].unique()"
   ]
  },
  {
   "cell_type": "code",
   "execution_count": 28,
   "id": "ddf30700",
   "metadata": {},
   "outputs": [],
   "source": [
    "# change all the Handicap set above 0 as 1\n",
    "df['Handicap'] = np.where(df['Handicap'] >= 1, 1, 0)\n",
    "\n",
    "# different method\n",
    "# train_md.loc[train_md.Handicap > 0, 'Handicap'] = 1"
   ]
  },
  {
   "cell_type": "code",
   "execution_count": null,
   "id": "0c87da44",
   "metadata": {},
   "outputs": [],
   "source": [
    "df['Handicap'].unique()"
   ]
  },
  {
   "cell_type": "markdown",
   "id": "2e516bf8",
   "metadata": {},
   "source": [
    "### Gender"
   ]
  },
  {
   "cell_type": "code",
   "execution_count": 29,
   "id": "050bd1b4",
   "metadata": {},
   "outputs": [],
   "source": [
    "df['Gender'] = np.where(df['Gender'] == \"F\", 1, 0)"
   ]
  },
  {
   "cell_type": "code",
   "execution_count": null,
   "id": "7194d413",
   "metadata": {},
   "outputs": [],
   "source": [
    "df['Gender'].unique()"
   ]
  },
  {
   "cell_type": "markdown",
   "id": "72204c4e",
   "metadata": {},
   "source": [
    "### Waiting_Day"
   ]
  },
  {
   "cell_type": "code",
   "execution_count": 30,
   "id": "44c51908",
   "metadata": {},
   "outputs": [],
   "source": [
    "# Adding a column which gives total waiting days\n",
    "df['Waiting_Day'] = (df['AppointmentDay'] - df['ScheduledDay']).dt.days"
   ]
  },
  {
   "cell_type": "code",
   "execution_count": null,
   "id": "567c3ebf",
   "metadata": {},
   "outputs": [],
   "source": [
    "# drop unwanted columns\n",
    "df.drop(['AppointmentDay','ScheduledDay'],axis=1,inplace=True)"
   ]
  },
  {
   "cell_type": "code",
   "execution_count": null,
   "id": "018b42ea",
   "metadata": {},
   "outputs": [],
   "source": [
    "df['Waiting_Day'].unique()"
   ]
  },
  {
   "cell_type": "code",
   "execution_count": 31,
   "id": "efbc029f",
   "metadata": {},
   "outputs": [
    {
     "data": {
      "text/plain": [
       "-1    4\n",
       "-6    1\n",
       "Name: Waiting_Day, dtype: int64"
      ]
     },
     "execution_count": 31,
     "metadata": {},
     "output_type": "execute_result"
    }
   ],
   "source": [
    "# Waiting_Day cannot be less than 0\n",
    "df[(df['Waiting_Day'] < 0)].Waiting_Day.value_counts()"
   ]
  },
  {
   "cell_type": "code",
   "execution_count": 32,
   "id": "859bb556",
   "metadata": {},
   "outputs": [],
   "source": [
    "df['Waiting_Day'][df['Waiting_Day'] < 0] = df['Waiting_Day'].mean()"
   ]
  },
  {
   "cell_type": "code",
   "execution_count": null,
   "id": "30e94866",
   "metadata": {
    "scrolled": false
   },
   "outputs": [],
   "source": [
    "df.info()"
   ]
  },
  {
   "cell_type": "markdown",
   "id": "3aa40927",
   "metadata": {},
   "source": [
    "### Age"
   ]
  },
  {
   "cell_type": "code",
   "execution_count": null,
   "id": "e7bd6399",
   "metadata": {},
   "outputs": [],
   "source": [
    "df['Age'].unique()"
   ]
  },
  {
   "cell_type": "code",
   "execution_count": 33,
   "id": "857acfc9",
   "metadata": {},
   "outputs": [],
   "source": [
    "# Age cannot be less than 0\n",
    "df['Age'][df['Age']<0] = df.Age.mean()"
   ]
  },
  {
   "cell_type": "code",
   "execution_count": 34,
   "id": "0fd54de8",
   "metadata": {},
   "outputs": [
    {
     "data": {
      "image/png": "[encoded data removed]",
      "text/plain": [
       "<Figure size 2000x2000 with 2 Axes>"
      ]
     },
     "metadata": {},
     "output_type": "display_data"
    }
   ],
   "source": [
    "# Get correlation of each features in dataset\n",
    "corrmat = df.corr()\n",
    "top_corr_features = corrmat.index\n",
    "plt.figure(figsize = (20,20))\n",
    "# Plotting heat map\n",
    "hm = sns.heatmap(df[top_corr_features].corr(), annot = True, cmap = 'RdYlGn')"
   ]
  },
  {
   "cell_type": "code",
   "execution_count": null,
   "id": "2a5bbf95",
   "metadata": {},
   "outputs": [],
   "source": [
    "# Creating dummies\n",
    "dum = df['Neighbourhood'].value_counts(normalize=True)\n",
    "np.sum(dum > .02)"
   ]
  },
  {
   "cell_type": "code",
   "execution_count": null,
   "id": "82f0cded",
   "metadata": {},
   "outputs": [],
   "source": [
    "## So only 18 dummies as per above logic\n",
    "df_dum = dum[dum > .02].index ## these are the ones which we should use as dummies\n",
    "df = df.assign(**{\n",
    "                \"new_nhood\": np.where(df.Neighbourhood.isin(df_dum), df.Neighbourhood, 'Other') \n",
    "                 }).drop('Neighbourhood', axis=1)"
   ]
  },
  {
   "cell_type": "code",
   "execution_count": null,
   "id": "2e6db4eb",
   "metadata": {},
   "outputs": [],
   "source": [
    "# concat to df and the drop unwanted column\n",
    "df = pd.concat([df, pd.get_dummies(df.new_nhood, drop_first = True)],axis=1)\n",
    "df.drop(['new_nhood'],axis=1,inplace=True)"
   ]
  },
  {
   "cell_type": "code",
   "execution_count": null,
   "id": "cfcdc533",
   "metadata": {},
   "outputs": [],
   "source": [
    "# split the data into train and test as previous\n",
    "train_df =df[df['Data'] =='train']\n",
    "test_df = df[df['Data'] =='test']"
   ]
  },
  {
   "cell_type": "code",
   "execution_count": null,
   "id": "6520a722",
   "metadata": {},
   "outputs": [],
   "source": [
    "# Drop unwanted columns\n",
    "train_df.drop('Data',axis=1,inplace=True)\n",
    "test_df.drop('Data',axis=1,inplace=True)\n",
    "test_df.drop('No_Show',axis=1,inplace=True)"
   ]
  },
  {
   "cell_type": "code",
   "execution_count": null,
   "id": "1cc04a4f",
   "metadata": {},
   "outputs": [],
   "source": [
    "test_df.columns"
   ]
  },
  {
   "cell_type": "code",
   "execution_count": null,
   "id": "3197df2b",
   "metadata": {},
   "outputs": [],
   "source": [
    "train_df.shape, test_df.shape"
   ]
  },
  {
   "cell_type": "code",
   "execution_count": null,
   "id": "f8492918",
   "metadata": {},
   "outputs": [],
   "source": [
    "# check if header's are consistent in both train and test\n",
    "set(train_df.columns) - set(test_df.columns)"
   ]
  },
  {
   "cell_type": "code",
   "execution_count": null,
   "id": "5aec2903",
   "metadata": {},
   "outputs": [],
   "source": [
    "# Split the train dataset into features and target variable\n",
    "X = train_df.drop('No_Show', axis=1)\n",
    "y = train_df['No_Show']"
   ]
  },
  {
   "cell_type": "code",
   "execution_count": null,
   "id": "958ef1a5",
   "metadata": {
    "scrolled": true
   },
   "outputs": [],
   "source": [
    "# Standardising the data\n",
    "scaler = StandardScaler()\n",
    "train = scaler.fit_transform(X)\n",
    "# here we just need to standardise the train data, no need to do this on target"
   ]
  },
  {
   "cell_type": "code",
   "execution_count": null,
   "id": "c040f9f0",
   "metadata": {},
   "outputs": [],
   "source": [
    "# checking event rate\n",
    "y.value_counts()"
   ]
  },
  {
   "cell_type": "code",
   "execution_count": null,
   "id": "927c1a65",
   "metadata": {},
   "outputs": [],
   "source": [
    "# Balancing the data\n",
    "ros = RandomOverSampler(random_state=2)\n",
    "X_resample,y_resample = ros.fit_resample(X,y)\n",
    "from collections import Counter\n",
    "print(sorted(Counter(y_resample).items()),y_resample.shape)"
   ]
  },
  {
   "cell_type": "code",
   "execution_count": null,
   "id": "978bc6c3",
   "metadata": {},
   "outputs": [],
   "source": [
    "# Split the train dataset into training and validation sets\n",
    "X_train, X_test, y_train, y_test = train_test_split(X_resample, y_resample, test_size=0.2, random_state=5)"
   ]
  },
  {
   "cell_type": "markdown",
   "id": "b65b65c3",
   "metadata": {},
   "source": [
    "### XGBoost"
   ]
  },
  {
   "cell_type": "code",
   "execution_count": null,
   "id": "1113c47f",
   "metadata": {},
   "outputs": [],
   "source": [
    "# Train the model\n",
    "xgb = XGBClassifier()"
   ]
  },
  {
   "cell_type": "code",
   "execution_count": null,
   "id": "568385a6",
   "metadata": {},
   "outputs": [],
   "source": [
    "# fitting the model\n",
    "xgb.fit(X_train,y_train)"
   ]
  },
  {
   "cell_type": "code",
   "execution_count": null,
   "id": "f49400bf",
   "metadata": {},
   "outputs": [],
   "source": [
    "# Predict the target variable for the validation set\n",
    "y_pred = xgb.predict(X_test)"
   ]
  },
  {
   "cell_type": "code",
   "execution_count": null,
   "id": "37e9fc89",
   "metadata": {},
   "outputs": [],
   "source": [
    "# Calculate the roc_auc score for the validation set\n",
    "score = roc_auc_score(y_test, y_pred)\n",
    "\n",
    "print(\"roc_auc score: \", score)"
   ]
  },
  {
   "cell_type": "code",
   "execution_count": null,
   "id": "5e5ad52c",
   "metadata": {},
   "outputs": [],
   "source": [
    "# Predict the target variable for the test set\n",
    "test_pred = xgb.predict(test_df)"
   ]
  },
  {
   "cell_type": "code",
   "execution_count": null,
   "id": "10fb984e",
   "metadata": {},
   "outputs": [],
   "source": [
    "# Create a submission file with the predicted probabilities\n",
    "submission_df = pd.DataFrame({'PatientId': test_df['PatientId'], 'No_Show': test_pred})\n",
    "submission_df.to_csv('No_Shows_for_Medical_Appointments_08.csv', index=False)"
   ]
  },
  {
   "cell_type": "markdown",
   "id": "7b442d0a",
   "metadata": {},
   "source": [
    "### Decision Tree"
   ]
  },
  {
   "cell_type": "code",
   "execution_count": null,
   "id": "432b5aac",
   "metadata": {},
   "outputs": [],
   "source": [
    "# Train the model\n",
    "clf_entropy = DecisionTreeClassifier(criterion = \"entropy\", random_state = 100,\n",
    " max_depth=5, min_samples_leaf=5)"
   ]
  },
  {
   "cell_type": "code",
   "execution_count": null,
   "id": "a61af5ff",
   "metadata": {},
   "outputs": [],
   "source": [
    "# fitting the model\n",
    "clf_entropy.fit(X_train, y_train)"
   ]
  },
  {
   "cell_type": "code",
   "execution_count": null,
   "id": "365c6ed4",
   "metadata": {},
   "outputs": [],
   "source": [
    "# Predict the target variable for the validation set\n",
    "y_pred_en = clf_entropy.predict(X_test)"
   ]
  },
  {
   "cell_type": "code",
   "execution_count": null,
   "id": "867a35e7",
   "metadata": {},
   "outputs": [],
   "source": [
    "# Calculate the roc_auc score for the validation set\n",
    "score_en = roc_auc_score(y_test, y_pred_en)\n",
    "\n",
    "print(\"roc_auc score: \", score_en)"
   ]
  },
  {
   "cell_type": "code",
   "execution_count": null,
   "id": "e3116d6a",
   "metadata": {},
   "outputs": [],
   "source": []
  }
 ],
 "metadata": {
  "kernelspec": {
   "display_name": "Python 3 (ipykernel)",
   "language": "python",
   "name": "python3"
  },
  "language_info": {
   "codemirror_mode": {
    "name": "ipython",
    "version": 3
   },
   "file_extension": ".py",
   "mimetype": "text/x-python",
   "name": "python",
   "nbconvert_exporter": "python",
   "pygments_lexer": "ipython3",
   "version": "3.9.13"
  }
 },
 "nbformat": 4,
 "nbformat_minor": 5
}
